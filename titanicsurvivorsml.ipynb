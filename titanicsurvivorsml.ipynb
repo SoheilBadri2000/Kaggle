{
 "cells": [
  {
   "cell_type": "code",
   "execution_count": 1,
   "id": "c9a0b6d3",
   "metadata": {
    "_cell_guid": "b1076dfc-b9ad-4769-8c92-a6c4dae69d19",
    "_uuid": "8f2839f25d086af736a60e9eeb907d3b93b6e0e5",
    "execution": {
     "iopub.execute_input": "2023-09-08T12:06:33.209528Z",
     "iopub.status.busy": "2023-09-08T12:06:33.209092Z",
     "iopub.status.idle": "2023-09-08T12:06:35.149434Z",
     "shell.execute_reply": "2023-09-08T12:06:35.147647Z"
    },
    "papermill": {
     "duration": 1.966687,
     "end_time": "2023-09-08T12:06:35.152515",
     "exception": false,
     "start_time": "2023-09-08T12:06:33.185828",
     "status": "completed"
    },
    "tags": []
   },
   "outputs": [
    {
     "name": "stdout",
     "output_type": "stream",
     "text": [
      "/kaggle/input/titanic/train.csv\n",
      "/kaggle/input/titanic/test.csv\n",
      "/kaggle/input/titanic/gender_submission.csv\n"
     ]
    }
   ],
   "source": [
    "# This Python 3 environment comes with many helpful analytics libraries installed\n",
    "# It is defined by the kaggle/python Docker image: https://github.com/kaggle/docker-python\n",
    "# For example, here's several helpful packages to load\n",
    "\n",
    "import numpy as np # linear algebra\n",
    "import pandas as pd # data processing, CSV file I/O (e.g. pd.read_csv)\n",
    "from sklearn.model_selection import train_test_split\n",
    "import matplotlib.pyplot as plt\n",
    "\n",
    "# Input data files are available in the read-only \"../input/\" directory\n",
    "# For example, running this (by clicking run or pressing Shift+Enter) will list all files under the input directory\n",
    "\n",
    "import os\n",
    "for dirname, _, filenames in os.walk('/kaggle/input'):\n",
    "    for filename in filenames:\n",
    "        print(os.path.join(dirname, filename))\n",
    "\n",
    "# You can write up to 20GB to the current directory (/kaggle/working/) that gets preserved as output when you create a version using \"Save & Run All\" \n",
    "# You can also write temporary files to /kaggle/temp/, but they won't be saved outside of the current session\n",
    "\n",
    "# ti\n",
    "\n",
    "\n",
    "# /kaggle/input/titanic/train.csv\n",
    "titanic = pd.read_csv(\"/kaggle/input/titanic/train.csv\")\n",
    "titanic.drop([\"PassengerId\", \"Name\", \"Ticket\", \"Cabin\"], axis=1, inplace=True)\n",
    "titanic_train, titanic_dev = train_test_split(titanic, test_size=0.2, stratify=titanic[\"Survived\"], random_state=42)\n",
    "titanic_test = pd.read_csv(\"/kaggle/input/titanic/test.csv\")\n",
    "gender_submission = pd.read_csv(\"/kaggle/input/titanic/gender_submission.csv\")\n"
   ]
  },
  {
   "cell_type": "markdown",
   "id": "4c1d2738",
   "metadata": {
    "papermill": {
     "duration": 0.02012,
     "end_time": "2023-09-08T12:06:35.193808",
     "exception": false,
     "start_time": "2023-09-08T12:06:35.173688",
     "status": "completed"
    },
    "tags": []
   },
   "source": [
    "# A glance at the training dataframe"
   ]
  },
  {
   "cell_type": "code",
   "execution_count": 2,
   "id": "faeb3186",
   "metadata": {
    "execution": {
     "iopub.execute_input": "2023-09-08T12:06:35.238366Z",
     "iopub.status.busy": "2023-09-08T12:06:35.237647Z",
     "iopub.status.idle": "2023-09-08T12:06:35.263373Z",
     "shell.execute_reply": "2023-09-08T12:06:35.262427Z"
    },
    "papermill": {
     "duration": 0.051246,
     "end_time": "2023-09-08T12:06:35.265931",
     "exception": false,
     "start_time": "2023-09-08T12:06:35.214685",
     "status": "completed"
    },
    "tags": []
   },
   "outputs": [
    {
     "data": {
      "text/html": [
       "<div>\n",
       "<style scoped>\n",
       "    .dataframe tbody tr th:only-of-type {\n",
       "        vertical-align: middle;\n",
       "    }\n",
       "\n",
       "    .dataframe tbody tr th {\n",
       "        vertical-align: top;\n",
       "    }\n",
       "\n",
       "    .dataframe thead th {\n",
       "        text-align: right;\n",
       "    }\n",
       "</style>\n",
       "<table border=\"1\" class=\"dataframe\">\n",
       "  <thead>\n",
       "    <tr style=\"text-align: right;\">\n",
       "      <th></th>\n",
       "      <th>Survived</th>\n",
       "      <th>Pclass</th>\n",
       "      <th>Sex</th>\n",
       "      <th>Age</th>\n",
       "      <th>SibSp</th>\n",
       "      <th>Parch</th>\n",
       "      <th>Fare</th>\n",
       "      <th>Embarked</th>\n",
       "    </tr>\n",
       "  </thead>\n",
       "  <tbody>\n",
       "    <tr>\n",
       "      <th>692</th>\n",
       "      <td>1</td>\n",
       "      <td>3</td>\n",
       "      <td>male</td>\n",
       "      <td>NaN</td>\n",
       "      <td>0</td>\n",
       "      <td>0</td>\n",
       "      <td>56.4958</td>\n",
       "      <td>S</td>\n",
       "    </tr>\n",
       "    <tr>\n",
       "      <th>481</th>\n",
       "      <td>0</td>\n",
       "      <td>2</td>\n",
       "      <td>male</td>\n",
       "      <td>NaN</td>\n",
       "      <td>0</td>\n",
       "      <td>0</td>\n",
       "      <td>0.0000</td>\n",
       "      <td>S</td>\n",
       "    </tr>\n",
       "    <tr>\n",
       "      <th>527</th>\n",
       "      <td>0</td>\n",
       "      <td>1</td>\n",
       "      <td>male</td>\n",
       "      <td>NaN</td>\n",
       "      <td>0</td>\n",
       "      <td>0</td>\n",
       "      <td>221.7792</td>\n",
       "      <td>S</td>\n",
       "    </tr>\n",
       "    <tr>\n",
       "      <th>855</th>\n",
       "      <td>1</td>\n",
       "      <td>3</td>\n",
       "      <td>female</td>\n",
       "      <td>18.0</td>\n",
       "      <td>0</td>\n",
       "      <td>1</td>\n",
       "      <td>9.3500</td>\n",
       "      <td>S</td>\n",
       "    </tr>\n",
       "    <tr>\n",
       "      <th>801</th>\n",
       "      <td>1</td>\n",
       "      <td>2</td>\n",
       "      <td>female</td>\n",
       "      <td>31.0</td>\n",
       "      <td>1</td>\n",
       "      <td>1</td>\n",
       "      <td>26.2500</td>\n",
       "      <td>S</td>\n",
       "    </tr>\n",
       "    <tr>\n",
       "      <th>652</th>\n",
       "      <td>0</td>\n",
       "      <td>3</td>\n",
       "      <td>male</td>\n",
       "      <td>21.0</td>\n",
       "      <td>0</td>\n",
       "      <td>0</td>\n",
       "      <td>8.4333</td>\n",
       "      <td>S</td>\n",
       "    </tr>\n",
       "    <tr>\n",
       "      <th>509</th>\n",
       "      <td>1</td>\n",
       "      <td>3</td>\n",
       "      <td>male</td>\n",
       "      <td>26.0</td>\n",
       "      <td>0</td>\n",
       "      <td>0</td>\n",
       "      <td>56.4958</td>\n",
       "      <td>S</td>\n",
       "    </tr>\n",
       "    <tr>\n",
       "      <th>557</th>\n",
       "      <td>0</td>\n",
       "      <td>1</td>\n",
       "      <td>male</td>\n",
       "      <td>NaN</td>\n",
       "      <td>0</td>\n",
       "      <td>0</td>\n",
       "      <td>227.5250</td>\n",
       "      <td>C</td>\n",
       "    </tr>\n",
       "    <tr>\n",
       "      <th>828</th>\n",
       "      <td>1</td>\n",
       "      <td>3</td>\n",
       "      <td>male</td>\n",
       "      <td>NaN</td>\n",
       "      <td>0</td>\n",
       "      <td>0</td>\n",
       "      <td>7.7500</td>\n",
       "      <td>Q</td>\n",
       "    </tr>\n",
       "    <tr>\n",
       "      <th>18</th>\n",
       "      <td>0</td>\n",
       "      <td>3</td>\n",
       "      <td>female</td>\n",
       "      <td>31.0</td>\n",
       "      <td>1</td>\n",
       "      <td>0</td>\n",
       "      <td>18.0000</td>\n",
       "      <td>S</td>\n",
       "    </tr>\n",
       "    <tr>\n",
       "      <th>647</th>\n",
       "      <td>1</td>\n",
       "      <td>1</td>\n",
       "      <td>male</td>\n",
       "      <td>56.0</td>\n",
       "      <td>0</td>\n",
       "      <td>0</td>\n",
       "      <td>35.5000</td>\n",
       "      <td>C</td>\n",
       "    </tr>\n",
       "    <tr>\n",
       "      <th>402</th>\n",
       "      <td>0</td>\n",
       "      <td>3</td>\n",
       "      <td>female</td>\n",
       "      <td>21.0</td>\n",
       "      <td>1</td>\n",
       "      <td>0</td>\n",
       "      <td>9.8250</td>\n",
       "      <td>S</td>\n",
       "    </tr>\n",
       "    <tr>\n",
       "      <th>846</th>\n",
       "      <td>0</td>\n",
       "      <td>3</td>\n",
       "      <td>male</td>\n",
       "      <td>NaN</td>\n",
       "      <td>8</td>\n",
       "      <td>2</td>\n",
       "      <td>69.5500</td>\n",
       "      <td>S</td>\n",
       "    </tr>\n",
       "    <tr>\n",
       "      <th>467</th>\n",
       "      <td>0</td>\n",
       "      <td>1</td>\n",
       "      <td>male</td>\n",
       "      <td>56.0</td>\n",
       "      <td>0</td>\n",
       "      <td>0</td>\n",
       "      <td>26.5500</td>\n",
       "      <td>S</td>\n",
       "    </tr>\n",
       "    <tr>\n",
       "      <th>51</th>\n",
       "      <td>0</td>\n",
       "      <td>3</td>\n",
       "      <td>male</td>\n",
       "      <td>21.0</td>\n",
       "      <td>0</td>\n",
       "      <td>0</td>\n",
       "      <td>7.8000</td>\n",
       "      <td>S</td>\n",
       "    </tr>\n",
       "    <tr>\n",
       "      <th>412</th>\n",
       "      <td>1</td>\n",
       "      <td>1</td>\n",
       "      <td>female</td>\n",
       "      <td>33.0</td>\n",
       "      <td>1</td>\n",
       "      <td>0</td>\n",
       "      <td>90.0000</td>\n",
       "      <td>Q</td>\n",
       "    </tr>\n",
       "    <tr>\n",
       "      <th>421</th>\n",
       "      <td>0</td>\n",
       "      <td>3</td>\n",
       "      <td>male</td>\n",
       "      <td>21.0</td>\n",
       "      <td>0</td>\n",
       "      <td>0</td>\n",
       "      <td>7.7333</td>\n",
       "      <td>Q</td>\n",
       "    </tr>\n",
       "    <tr>\n",
       "      <th>250</th>\n",
       "      <td>0</td>\n",
       "      <td>3</td>\n",
       "      <td>male</td>\n",
       "      <td>NaN</td>\n",
       "      <td>0</td>\n",
       "      <td>0</td>\n",
       "      <td>7.2500</td>\n",
       "      <td>S</td>\n",
       "    </tr>\n",
       "    <tr>\n",
       "      <th>818</th>\n",
       "      <td>0</td>\n",
       "      <td>3</td>\n",
       "      <td>male</td>\n",
       "      <td>43.0</td>\n",
       "      <td>0</td>\n",
       "      <td>0</td>\n",
       "      <td>6.4500</td>\n",
       "      <td>S</td>\n",
       "    </tr>\n",
       "    <tr>\n",
       "      <th>409</th>\n",
       "      <td>0</td>\n",
       "      <td>3</td>\n",
       "      <td>female</td>\n",
       "      <td>NaN</td>\n",
       "      <td>3</td>\n",
       "      <td>1</td>\n",
       "      <td>25.4667</td>\n",
       "      <td>S</td>\n",
       "    </tr>\n",
       "  </tbody>\n",
       "</table>\n",
       "</div>"
      ],
      "text/plain": [
       "     Survived  Pclass     Sex   Age  SibSp  Parch      Fare Embarked\n",
       "692         1       3    male   NaN      0      0   56.4958        S\n",
       "481         0       2    male   NaN      0      0    0.0000        S\n",
       "527         0       1    male   NaN      0      0  221.7792        S\n",
       "855         1       3  female  18.0      0      1    9.3500        S\n",
       "801         1       2  female  31.0      1      1   26.2500        S\n",
       "652         0       3    male  21.0      0      0    8.4333        S\n",
       "509         1       3    male  26.0      0      0   56.4958        S\n",
       "557         0       1    male   NaN      0      0  227.5250        C\n",
       "828         1       3    male   NaN      0      0    7.7500        Q\n",
       "18          0       3  female  31.0      1      0   18.0000        S\n",
       "647         1       1    male  56.0      0      0   35.5000        C\n",
       "402         0       3  female  21.0      1      0    9.8250        S\n",
       "846         0       3    male   NaN      8      2   69.5500        S\n",
       "467         0       1    male  56.0      0      0   26.5500        S\n",
       "51          0       3    male  21.0      0      0    7.8000        S\n",
       "412         1       1  female  33.0      1      0   90.0000        Q\n",
       "421         0       3    male  21.0      0      0    7.7333        Q\n",
       "250         0       3    male   NaN      0      0    7.2500        S\n",
       "818         0       3    male  43.0      0      0    6.4500        S\n",
       "409         0       3  female   NaN      3      1   25.4667        S"
      ]
     },
     "execution_count": 2,
     "metadata": {},
     "output_type": "execute_result"
    }
   ],
   "source": [
    "titanic_train.head(20)"
   ]
  },
  {
   "cell_type": "code",
   "execution_count": 3,
   "id": "46efe640",
   "metadata": {
    "execution": {
     "iopub.execute_input": "2023-09-08T12:06:35.309503Z",
     "iopub.status.busy": "2023-09-08T12:06:35.308812Z",
     "iopub.status.idle": "2023-09-08T12:06:35.315285Z",
     "shell.execute_reply": "2023-09-08T12:06:35.313921Z"
    },
    "papermill": {
     "duration": 0.031533,
     "end_time": "2023-09-08T12:06:35.318158",
     "exception": false,
     "start_time": "2023-09-08T12:06:35.286625",
     "status": "completed"
    },
    "tags": []
   },
   "outputs": [
    {
     "name": "stdout",
     "output_type": "stream",
     "text": [
      "(712, 8)\n",
      "(179, 8)\n",
      "(418, 11)\n"
     ]
    }
   ],
   "source": [
    "print(titanic_train.shape)\n",
    "print(titanic_dev.shape)\n",
    "print(titanic_test.shape)"
   ]
  },
  {
   "cell_type": "code",
   "execution_count": 4,
   "id": "7b838d91",
   "metadata": {
    "execution": {
     "iopub.execute_input": "2023-09-08T12:06:35.363136Z",
     "iopub.status.busy": "2023-09-08T12:06:35.362362Z",
     "iopub.status.idle": "2023-09-08T12:06:35.385835Z",
     "shell.execute_reply": "2023-09-08T12:06:35.384413Z"
    },
    "papermill": {
     "duration": 0.049351,
     "end_time": "2023-09-08T12:06:35.388730",
     "exception": false,
     "start_time": "2023-09-08T12:06:35.339379",
     "status": "completed"
    },
    "tags": []
   },
   "outputs": [
    {
     "name": "stdout",
     "output_type": "stream",
     "text": [
      "<class 'pandas.core.frame.DataFrame'>\n",
      "Index: 712 entries, 692 to 507\n",
      "Data columns (total 8 columns):\n",
      " #   Column    Non-Null Count  Dtype  \n",
      "---  ------    --------------  -----  \n",
      " 0   Survived  712 non-null    int64  \n",
      " 1   Pclass    712 non-null    int64  \n",
      " 2   Sex       712 non-null    object \n",
      " 3   Age       575 non-null    float64\n",
      " 4   SibSp     712 non-null    int64  \n",
      " 5   Parch     712 non-null    int64  \n",
      " 6   Fare      712 non-null    float64\n",
      " 7   Embarked  710 non-null    object \n",
      "dtypes: float64(2), int64(4), object(2)\n",
      "memory usage: 50.1+ KB\n"
     ]
    }
   ],
   "source": [
    "titanic_train.info()"
   ]
  },
  {
   "cell_type": "code",
   "execution_count": 5,
   "id": "74e7c8b0",
   "metadata": {
    "execution": {
     "iopub.execute_input": "2023-09-08T12:06:35.434022Z",
     "iopub.status.busy": "2023-09-08T12:06:35.433570Z",
     "iopub.status.idle": "2023-09-08T12:06:35.442778Z",
     "shell.execute_reply": "2023-09-08T12:06:35.441452Z"
    },
    "papermill": {
     "duration": 0.035051,
     "end_time": "2023-09-08T12:06:35.445816",
     "exception": false,
     "start_time": "2023-09-08T12:06:35.410765",
     "status": "completed"
    },
    "tags": []
   },
   "outputs": [
    {
     "data": {
      "text/plain": [
       "2"
      ]
     },
     "execution_count": 5,
     "metadata": {},
     "output_type": "execute_result"
    }
   ],
   "source": [
    "# \"Age\" and \"Embarked\" have Null values\n",
    "\n",
    "titanic_train[\"Embarked\"].isna().sum()"
   ]
  },
  {
   "cell_type": "code",
   "execution_count": 6,
   "id": "d6f6873b",
   "metadata": {
    "execution": {
     "iopub.execute_input": "2023-09-08T12:06:35.492274Z",
     "iopub.status.busy": "2023-09-08T12:06:35.491862Z",
     "iopub.status.idle": "2023-09-08T12:06:35.509764Z",
     "shell.execute_reply": "2023-09-08T12:06:35.508334Z"
    },
    "papermill": {
     "duration": 0.044045,
     "end_time": "2023-09-08T12:06:35.512059",
     "exception": false,
     "start_time": "2023-09-08T12:06:35.468014",
     "status": "completed"
    },
    "tags": []
   },
   "outputs": [
    {
     "data": {
      "text/html": [
       "<div>\n",
       "<style scoped>\n",
       "    .dataframe tbody tr th:only-of-type {\n",
       "        vertical-align: middle;\n",
       "    }\n",
       "\n",
       "    .dataframe tbody tr th {\n",
       "        vertical-align: top;\n",
       "    }\n",
       "\n",
       "    .dataframe thead th {\n",
       "        text-align: right;\n",
       "    }\n",
       "</style>\n",
       "<table border=\"1\" class=\"dataframe\">\n",
       "  <thead>\n",
       "    <tr style=\"text-align: right;\">\n",
       "      <th></th>\n",
       "      <th>Survived</th>\n",
       "      <th>Pclass</th>\n",
       "      <th>Sex</th>\n",
       "      <th>Age</th>\n",
       "      <th>SibSp</th>\n",
       "      <th>Parch</th>\n",
       "      <th>Fare</th>\n",
       "      <th>Embarked</th>\n",
       "    </tr>\n",
       "  </thead>\n",
       "  <tbody>\n",
       "    <tr>\n",
       "      <th>829</th>\n",
       "      <td>1</td>\n",
       "      <td>1</td>\n",
       "      <td>female</td>\n",
       "      <td>62.0</td>\n",
       "      <td>0</td>\n",
       "      <td>0</td>\n",
       "      <td>80.0</td>\n",
       "      <td>NaN</td>\n",
       "    </tr>\n",
       "    <tr>\n",
       "      <th>61</th>\n",
       "      <td>1</td>\n",
       "      <td>1</td>\n",
       "      <td>female</td>\n",
       "      <td>38.0</td>\n",
       "      <td>0</td>\n",
       "      <td>0</td>\n",
       "      <td>80.0</td>\n",
       "      <td>NaN</td>\n",
       "    </tr>\n",
       "  </tbody>\n",
       "</table>\n",
       "</div>"
      ],
      "text/plain": [
       "     Survived  Pclass     Sex   Age  SibSp  Parch  Fare Embarked\n",
       "829         1       1  female  62.0      0      0  80.0      NaN\n",
       "61          1       1  female  38.0      0      0  80.0      NaN"
      ]
     },
     "execution_count": 6,
     "metadata": {},
     "output_type": "execute_result"
    }
   ],
   "source": [
    "titanic_train.loc[titanic_train[\"Embarked\"].isna()]"
   ]
  },
  {
   "cell_type": "code",
   "execution_count": 7,
   "id": "4139927f",
   "metadata": {
    "execution": {
     "iopub.execute_input": "2023-09-08T12:06:35.558033Z",
     "iopub.status.busy": "2023-09-08T12:06:35.557617Z",
     "iopub.status.idle": "2023-09-08T12:06:35.567394Z",
     "shell.execute_reply": "2023-09-08T12:06:35.565983Z"
    },
    "papermill": {
     "duration": 0.036109,
     "end_time": "2023-09-08T12:06:35.570043",
     "exception": false,
     "start_time": "2023-09-08T12:06:35.533934",
     "status": "completed"
    },
    "tags": []
   },
   "outputs": [
    {
     "data": {
      "text/plain": [
       "Embarked\n",
       "S    516\n",
       "C    139\n",
       "Q     55\n",
       "Name: count, dtype: int64"
      ]
     },
     "execution_count": 7,
     "metadata": {},
     "output_type": "execute_result"
    }
   ],
   "source": [
    "titanic_train[\"Embarked\"].value_counts()"
   ]
  },
  {
   "cell_type": "code",
   "execution_count": 8,
   "id": "c6699455",
   "metadata": {
    "execution": {
     "iopub.execute_input": "2023-09-08T12:06:35.615753Z",
     "iopub.status.busy": "2023-09-08T12:06:35.615120Z",
     "iopub.status.idle": "2023-09-08T12:06:37.607827Z",
     "shell.execute_reply": "2023-09-08T12:06:37.606265Z"
    },
    "papermill": {
     "duration": 2.020442,
     "end_time": "2023-09-08T12:06:37.612083",
     "exception": false,
     "start_time": "2023-09-08T12:06:35.591641",
     "status": "completed"
    },
    "tags": []
   },
   "outputs": [
    {
     "data": {
      "image/png": "[encoded data removed]",
      "text/plain": [
       "<Figure size 1200x800 with 6 Axes>"
      ]
     },
     "metadata": {},
     "output_type": "display_data"
    }
   ],
   "source": [
    "titanic_train.hist(bins=50, figsize=(12,8))\n",
    "plt.show()"
   ]
  },
  {
   "cell_type": "code",
   "execution_count": 9,
   "id": "7dccecaf",
   "metadata": {
    "execution": {
     "iopub.execute_input": "2023-09-08T12:06:37.660478Z",
     "iopub.status.busy": "2023-09-08T12:06:37.659431Z",
     "iopub.status.idle": "2023-09-08T12:06:37.686412Z",
     "shell.execute_reply": "2023-09-08T12:06:37.685003Z"
    },
    "papermill": {
     "duration": 0.053821,
     "end_time": "2023-09-08T12:06:37.689206",
     "exception": false,
     "start_time": "2023-09-08T12:06:37.635385",
     "status": "completed"
    },
    "tags": []
   },
   "outputs": [
    {
     "data": {
      "text/html": [
       "<div>\n",
       "<style scoped>\n",
       "    .dataframe tbody tr th:only-of-type {\n",
       "        vertical-align: middle;\n",
       "    }\n",
       "\n",
       "    .dataframe tbody tr th {\n",
       "        vertical-align: top;\n",
       "    }\n",
       "\n",
       "    .dataframe thead th {\n",
       "        text-align: right;\n",
       "    }\n",
       "</style>\n",
       "<table border=\"1\" class=\"dataframe\">\n",
       "  <thead>\n",
       "    <tr style=\"text-align: right;\">\n",
       "      <th></th>\n",
       "      <th>Survived</th>\n",
       "      <th>Age</th>\n",
       "      <th>Pclass</th>\n",
       "      <th>SibSp</th>\n",
       "      <th>Parch</th>\n",
       "      <th>Fare</th>\n",
       "    </tr>\n",
       "  </thead>\n",
       "  <tbody>\n",
       "    <tr>\n",
       "      <th>Survived</th>\n",
       "      <td>1.000000</td>\n",
       "      <td>-0.084268</td>\n",
       "      <td>-0.348007</td>\n",
       "      <td>-0.026115</td>\n",
       "      <td>0.084178</td>\n",
       "      <td>0.275499</td>\n",
       "    </tr>\n",
       "    <tr>\n",
       "      <th>Age</th>\n",
       "      <td>-0.084268</td>\n",
       "      <td>1.000000</td>\n",
       "      <td>-0.351089</td>\n",
       "      <td>-0.312885</td>\n",
       "      <td>-0.175573</td>\n",
       "      <td>0.106915</td>\n",
       "    </tr>\n",
       "    <tr>\n",
       "      <th>Pclass</th>\n",
       "      <td>-0.348007</td>\n",
       "      <td>-0.351089</td>\n",
       "      <td>1.000000</td>\n",
       "      <td>0.097900</td>\n",
       "      <td>0.040467</td>\n",
       "      <td>-0.556540</td>\n",
       "    </tr>\n",
       "    <tr>\n",
       "      <th>SibSp</th>\n",
       "      <td>-0.026115</td>\n",
       "      <td>-0.312885</td>\n",
       "      <td>0.097900</td>\n",
       "      <td>1.000000</td>\n",
       "      <td>0.392269</td>\n",
       "      <td>0.127011</td>\n",
       "    </tr>\n",
       "    <tr>\n",
       "      <th>Parch</th>\n",
       "      <td>0.084178</td>\n",
       "      <td>-0.175573</td>\n",
       "      <td>0.040467</td>\n",
       "      <td>0.392269</td>\n",
       "      <td>1.000000</td>\n",
       "      <td>0.177235</td>\n",
       "    </tr>\n",
       "    <tr>\n",
       "      <th>Fare</th>\n",
       "      <td>0.275499</td>\n",
       "      <td>0.106915</td>\n",
       "      <td>-0.556540</td>\n",
       "      <td>0.127011</td>\n",
       "      <td>0.177235</td>\n",
       "      <td>1.000000</td>\n",
       "    </tr>\n",
       "  </tbody>\n",
       "</table>\n",
       "</div>"
      ],
      "text/plain": [
       "          Survived       Age    Pclass     SibSp     Parch      Fare\n",
       "Survived  1.000000 -0.084268 -0.348007 -0.026115  0.084178  0.275499\n",
       "Age      -0.084268  1.000000 -0.351089 -0.312885 -0.175573  0.106915\n",
       "Pclass   -0.348007 -0.351089  1.000000  0.097900  0.040467 -0.556540\n",
       "SibSp    -0.026115 -0.312885  0.097900  1.000000  0.392269  0.127011\n",
       "Parch     0.084178 -0.175573  0.040467  0.392269  1.000000  0.177235\n",
       "Fare      0.275499  0.106915 -0.556540  0.127011  0.177235  1.000000"
      ]
     },
     "execution_count": 9,
     "metadata": {},
     "output_type": "execute_result"
    }
   ],
   "source": [
    "features = [\"Survived\",\"Sex\", \"Age\", \"Pclass\", \"SibSp\", \"Parch\", \"Fare\"]\n",
    "corr_matrix = titanic_train[features].corr(numeric_only=True)\n",
    "# corr_matrix = titanic_train.corr()\n",
    "corr_matrix"
   ]
  },
  {
   "cell_type": "code",
   "execution_count": 10,
   "id": "7ad03d98",
   "metadata": {
    "execution": {
     "iopub.execute_input": "2023-09-08T12:06:37.735971Z",
     "iopub.status.busy": "2023-09-08T12:06:37.735572Z",
     "iopub.status.idle": "2023-09-08T12:06:40.565385Z",
     "shell.execute_reply": "2023-09-08T12:06:40.563846Z"
    },
    "papermill": {
     "duration": 2.857255,
     "end_time": "2023-09-08T12:06:40.569031",
     "exception": false,
     "start_time": "2023-09-08T12:06:37.711776",
     "status": "completed"
    },
    "tags": []
   },
   "outputs": [
    {
     "data": {
      "image/png": "[encoded data removed]",
      "text/plain": [
       "<Figure size 1200x800 with 36 Axes>"
      ]
     },
     "metadata": {},
     "output_type": "display_data"
    }
   ],
   "source": [
    "from pandas.plotting import scatter_matrix\n",
    "scatter_matrix(titanic_train[features], figsize=(12, 8))\n",
    "plt.show()"
   ]
  },
  {
   "cell_type": "code",
   "execution_count": 11,
   "id": "081fa008",
   "metadata": {
    "_kg_hide-output": true,
    "execution": {
     "iopub.execute_input": "2023-09-08T12:06:40.715937Z",
     "iopub.status.busy": "2023-09-08T12:06:40.715485Z",
     "iopub.status.idle": "2023-09-08T12:06:44.420497Z",
     "shell.execute_reply": "2023-09-08T12:06:44.419185Z"
    },
    "papermill": {
     "duration": 3.734405,
     "end_time": "2023-09-08T12:06:44.423704",
     "exception": false,
     "start_time": "2023-09-08T12:06:40.689299",
     "status": "completed"
    },
    "tags": []
   },
   "outputs": [
    {
     "data": {
      "image/png": "[encoded data removed]",
      "text/plain": [
       "<Figure size 1200x800 with 49 Axes>"
      ]
     },
     "metadata": {},
     "output_type": "display_data"
    }
   ],
   "source": [
    "titanic_train[\"Compag\"] = titanic_train[\"SibSp\"] + titanic_train[\"Parch\"]\n",
    "features.append(\"Compag\")\n",
    "features\n",
    "scatter_matrix(titanic_train[features], figsize=(12, 8))\n",
    "plt.show()"
   ]
  },
  {
   "cell_type": "markdown",
   "id": "4c4d359c",
   "metadata": {
    "papermill": {
     "duration": 0.02633,
     "end_time": "2023-09-08T12:06:44.477038",
     "exception": false,
     "start_time": "2023-09-08T12:06:44.450708",
     "status": "completed"
    },
    "tags": []
   },
   "source": [
    "# Handling missing values"
   ]
  },
  {
   "cell_type": "code",
   "execution_count": 12,
   "id": "0db2068a",
   "metadata": {
    "execution": {
     "iopub.execute_input": "2023-09-08T12:06:44.532019Z",
     "iopub.status.busy": "2023-09-08T12:06:44.531532Z",
     "iopub.status.idle": "2023-09-08T12:06:44.545311Z",
     "shell.execute_reply": "2023-09-08T12:06:44.543607Z"
    },
    "papermill": {
     "duration": 0.044563,
     "end_time": "2023-09-08T12:06:44.547673",
     "exception": false,
     "start_time": "2023-09-08T12:06:44.503110",
     "status": "completed"
    },
    "tags": []
   },
   "outputs": [
    {
     "name": "stdout",
     "output_type": "stream",
     "text": [
      "29.0\n",
      "28.0\n"
     ]
    }
   ],
   "source": [
    "print(titanic_train[titanic_train[\"Sex\"] == \"male\"][\"Age\"].median())\n",
    "print(titanic_train[titanic_train[\"Sex\"] == \"female\"][\"Age\"].median())"
   ]
  },
  {
   "cell_type": "code",
   "execution_count": 13,
   "id": "a1b7726d",
   "metadata": {
    "execution": {
     "iopub.execute_input": "2023-09-08T12:06:44.604839Z",
     "iopub.status.busy": "2023-09-08T12:06:44.603488Z",
     "iopub.status.idle": "2023-09-08T12:06:45.123995Z",
     "shell.execute_reply": "2023-09-08T12:06:45.122777Z"
    },
    "papermill": {
     "duration": 0.552406,
     "end_time": "2023-09-08T12:06:45.127004",
     "exception": false,
     "start_time": "2023-09-08T12:06:44.574598",
     "status": "completed"
    },
    "tags": []
   },
   "outputs": [
    {
     "data": {
      "image/png": "[encoded data removed]",
      "text/plain": [
       "<Figure size 640x480 with 1 Axes>"
      ]
     },
     "metadata": {},
     "output_type": "display_data"
    },
    {
     "data": {
      "image/png": "[encoded data removed]",
      "text/plain": [
       "<Figure size 640x480 with 1 Axes>"
      ]
     },
     "metadata": {},
     "output_type": "display_data"
    }
   ],
   "source": [
    "ct = pd.crosstab(titanic_train[\"Embarked\"], titanic_train[\"Survived\"])\n",
    "ct.plot(kind=\"bar\", stacked=True)\n",
    "ctnorm = ct.div(ct.sum(1), axis=0)\n",
    "ctnorm.plot(kind=\"bar\", stacked=True)\n",
    "plt.show()"
   ]
  },
  {
   "cell_type": "code",
   "execution_count": 14,
   "id": "329a9240",
   "metadata": {
    "execution": {
     "iopub.execute_input": "2023-09-08T12:06:45.183547Z",
     "iopub.status.busy": "2023-09-08T12:06:45.182707Z",
     "iopub.status.idle": "2023-09-08T12:06:45.190973Z",
     "shell.execute_reply": "2023-09-08T12:06:45.189369Z"
    },
    "papermill": {
     "duration": 0.039442,
     "end_time": "2023-09-08T12:06:45.193658",
     "exception": false,
     "start_time": "2023-09-08T12:06:45.154216",
     "status": "completed"
    },
    "tags": []
   },
   "outputs": [],
   "source": [
    "titanic_train.drop(\"Embarked\", axis=1, inplace=True)"
   ]
  },
  {
   "cell_type": "code",
   "execution_count": 15,
   "id": "944e891b",
   "metadata": {
    "execution": {
     "iopub.execute_input": "2023-09-08T12:06:45.249890Z",
     "iopub.status.busy": "2023-09-08T12:06:45.249375Z",
     "iopub.status.idle": "2023-09-08T12:06:45.263903Z",
     "shell.execute_reply": "2023-09-08T12:06:45.262674Z"
    },
    "papermill": {
     "duration": 0.046316,
     "end_time": "2023-09-08T12:06:45.266490",
     "exception": false,
     "start_time": "2023-09-08T12:06:45.220174",
     "status": "completed"
    },
    "tags": []
   },
   "outputs": [
    {
     "name": "stdout",
     "output_type": "stream",
     "text": [
      "<class 'pandas.core.frame.DataFrame'>\n",
      "Index: 712 entries, 692 to 507\n",
      "Data columns (total 8 columns):\n",
      " #   Column    Non-Null Count  Dtype  \n",
      "---  ------    --------------  -----  \n",
      " 0   Survived  712 non-null    int64  \n",
      " 1   Pclass    712 non-null    int64  \n",
      " 2   Sex       712 non-null    object \n",
      " 3   Age       575 non-null    float64\n",
      " 4   SibSp     712 non-null    int64  \n",
      " 5   Parch     712 non-null    int64  \n",
      " 6   Fare      712 non-null    float64\n",
      " 7   Compag    712 non-null    int64  \n",
      "dtypes: float64(2), int64(5), object(1)\n",
      "memory usage: 50.1+ KB\n"
     ]
    }
   ],
   "source": [
    "titanic_train.info()"
   ]
  },
  {
   "cell_type": "code",
   "execution_count": 16,
   "id": "d06f233d",
   "metadata": {
    "execution": {
     "iopub.execute_input": "2023-09-08T12:06:45.322472Z",
     "iopub.status.busy": "2023-09-08T12:06:45.321926Z",
     "iopub.status.idle": "2023-09-08T12:06:45.578501Z",
     "shell.execute_reply": "2023-09-08T12:06:45.577511Z"
    },
    "papermill": {
     "duration": 0.28806,
     "end_time": "2023-09-08T12:06:45.581254",
     "exception": false,
     "start_time": "2023-09-08T12:06:45.293194",
     "status": "completed"
    },
    "tags": []
   },
   "outputs": [],
   "source": [
    "from sklearn.impute import SimpleImputer\n",
    "# imp_median_male = SimpleImputer(missing_values=np.nan, strategy=\"median\")\n",
    "# imp_median_female = SimpleImputer(missing_values=np.nan, strategy=\"median\")\n",
    "\n",
    "# imp_median_male.fit(titanic_train[titanic_train[\"Sex\"] == \"male\"][\"Age\"].values.reshape(-1,1))\n",
    "# imp_median_female.fit(titanic_train[titanic_train[\"Sex\"] == \"female\"][\"Age\"].values.reshape(-1,1))\n",
    "\n",
    "imp_median = SimpleImputer(missing_values=np.nan, strategy=\"median\")\n",
    "imp_median.fit(titanic_train[\"Age\"].values.reshape(-1,1))\n",
    "titanic_train[\"Age\"] = imp_median.transform(titanic_train[\"Age\"].values.reshape(-1,1))"
   ]
  },
  {
   "cell_type": "code",
   "execution_count": 17,
   "id": "4420d234",
   "metadata": {
    "execution": {
     "iopub.execute_input": "2023-09-08T12:06:45.637791Z",
     "iopub.status.busy": "2023-09-08T12:06:45.637035Z",
     "iopub.status.idle": "2023-09-08T12:06:45.658421Z",
     "shell.execute_reply": "2023-09-08T12:06:45.657215Z"
    },
    "papermill": {
     "duration": 0.053673,
     "end_time": "2023-09-08T12:06:45.661512",
     "exception": false,
     "start_time": "2023-09-08T12:06:45.607839",
     "status": "completed"
    },
    "tags": []
   },
   "outputs": [
    {
     "data": {
      "text/html": [
       "<div>\n",
       "<style scoped>\n",
       "    .dataframe tbody tr th:only-of-type {\n",
       "        vertical-align: middle;\n",
       "    }\n",
       "\n",
       "    .dataframe tbody tr th {\n",
       "        vertical-align: top;\n",
       "    }\n",
       "\n",
       "    .dataframe thead th {\n",
       "        text-align: right;\n",
       "    }\n",
       "</style>\n",
       "<table border=\"1\" class=\"dataframe\">\n",
       "  <thead>\n",
       "    <tr style=\"text-align: right;\">\n",
       "      <th></th>\n",
       "      <th>Survived</th>\n",
       "      <th>Pclass</th>\n",
       "      <th>Sex</th>\n",
       "      <th>Age</th>\n",
       "      <th>SibSp</th>\n",
       "      <th>Parch</th>\n",
       "      <th>Fare</th>\n",
       "      <th>Compag</th>\n",
       "    </tr>\n",
       "  </thead>\n",
       "  <tbody>\n",
       "    <tr>\n",
       "      <th>692</th>\n",
       "      <td>1</td>\n",
       "      <td>3</td>\n",
       "      <td>male</td>\n",
       "      <td>28.5</td>\n",
       "      <td>0</td>\n",
       "      <td>0</td>\n",
       "      <td>56.4958</td>\n",
       "      <td>0</td>\n",
       "    </tr>\n",
       "    <tr>\n",
       "      <th>481</th>\n",
       "      <td>0</td>\n",
       "      <td>2</td>\n",
       "      <td>male</td>\n",
       "      <td>28.5</td>\n",
       "      <td>0</td>\n",
       "      <td>0</td>\n",
       "      <td>0.0000</td>\n",
       "      <td>0</td>\n",
       "    </tr>\n",
       "    <tr>\n",
       "      <th>527</th>\n",
       "      <td>0</td>\n",
       "      <td>1</td>\n",
       "      <td>male</td>\n",
       "      <td>28.5</td>\n",
       "      <td>0</td>\n",
       "      <td>0</td>\n",
       "      <td>221.7792</td>\n",
       "      <td>0</td>\n",
       "    </tr>\n",
       "    <tr>\n",
       "      <th>855</th>\n",
       "      <td>1</td>\n",
       "      <td>3</td>\n",
       "      <td>female</td>\n",
       "      <td>18.0</td>\n",
       "      <td>0</td>\n",
       "      <td>1</td>\n",
       "      <td>9.3500</td>\n",
       "      <td>1</td>\n",
       "    </tr>\n",
       "    <tr>\n",
       "      <th>801</th>\n",
       "      <td>1</td>\n",
       "      <td>2</td>\n",
       "      <td>female</td>\n",
       "      <td>31.0</td>\n",
       "      <td>1</td>\n",
       "      <td>1</td>\n",
       "      <td>26.2500</td>\n",
       "      <td>2</td>\n",
       "    </tr>\n",
       "    <tr>\n",
       "      <th>652</th>\n",
       "      <td>0</td>\n",
       "      <td>3</td>\n",
       "      <td>male</td>\n",
       "      <td>21.0</td>\n",
       "      <td>0</td>\n",
       "      <td>0</td>\n",
       "      <td>8.4333</td>\n",
       "      <td>0</td>\n",
       "    </tr>\n",
       "    <tr>\n",
       "      <th>509</th>\n",
       "      <td>1</td>\n",
       "      <td>3</td>\n",
       "      <td>male</td>\n",
       "      <td>26.0</td>\n",
       "      <td>0</td>\n",
       "      <td>0</td>\n",
       "      <td>56.4958</td>\n",
       "      <td>0</td>\n",
       "    </tr>\n",
       "    <tr>\n",
       "      <th>557</th>\n",
       "      <td>0</td>\n",
       "      <td>1</td>\n",
       "      <td>male</td>\n",
       "      <td>28.5</td>\n",
       "      <td>0</td>\n",
       "      <td>0</td>\n",
       "      <td>227.5250</td>\n",
       "      <td>0</td>\n",
       "    </tr>\n",
       "    <tr>\n",
       "      <th>828</th>\n",
       "      <td>1</td>\n",
       "      <td>3</td>\n",
       "      <td>male</td>\n",
       "      <td>28.5</td>\n",
       "      <td>0</td>\n",
       "      <td>0</td>\n",
       "      <td>7.7500</td>\n",
       "      <td>0</td>\n",
       "    </tr>\n",
       "    <tr>\n",
       "      <th>18</th>\n",
       "      <td>0</td>\n",
       "      <td>3</td>\n",
       "      <td>female</td>\n",
       "      <td>31.0</td>\n",
       "      <td>1</td>\n",
       "      <td>0</td>\n",
       "      <td>18.0000</td>\n",
       "      <td>1</td>\n",
       "    </tr>\n",
       "    <tr>\n",
       "      <th>647</th>\n",
       "      <td>1</td>\n",
       "      <td>1</td>\n",
       "      <td>male</td>\n",
       "      <td>56.0</td>\n",
       "      <td>0</td>\n",
       "      <td>0</td>\n",
       "      <td>35.5000</td>\n",
       "      <td>0</td>\n",
       "    </tr>\n",
       "    <tr>\n",
       "      <th>402</th>\n",
       "      <td>0</td>\n",
       "      <td>3</td>\n",
       "      <td>female</td>\n",
       "      <td>21.0</td>\n",
       "      <td>1</td>\n",
       "      <td>0</td>\n",
       "      <td>9.8250</td>\n",
       "      <td>1</td>\n",
       "    </tr>\n",
       "    <tr>\n",
       "      <th>846</th>\n",
       "      <td>0</td>\n",
       "      <td>3</td>\n",
       "      <td>male</td>\n",
       "      <td>28.5</td>\n",
       "      <td>8</td>\n",
       "      <td>2</td>\n",
       "      <td>69.5500</td>\n",
       "      <td>10</td>\n",
       "    </tr>\n",
       "    <tr>\n",
       "      <th>467</th>\n",
       "      <td>0</td>\n",
       "      <td>1</td>\n",
       "      <td>male</td>\n",
       "      <td>56.0</td>\n",
       "      <td>0</td>\n",
       "      <td>0</td>\n",
       "      <td>26.5500</td>\n",
       "      <td>0</td>\n",
       "    </tr>\n",
       "    <tr>\n",
       "      <th>51</th>\n",
       "      <td>0</td>\n",
       "      <td>3</td>\n",
       "      <td>male</td>\n",
       "      <td>21.0</td>\n",
       "      <td>0</td>\n",
       "      <td>0</td>\n",
       "      <td>7.8000</td>\n",
       "      <td>0</td>\n",
       "    </tr>\n",
       "    <tr>\n",
       "      <th>412</th>\n",
       "      <td>1</td>\n",
       "      <td>1</td>\n",
       "      <td>female</td>\n",
       "      <td>33.0</td>\n",
       "      <td>1</td>\n",
       "      <td>0</td>\n",
       "      <td>90.0000</td>\n",
       "      <td>1</td>\n",
       "    </tr>\n",
       "    <tr>\n",
       "      <th>421</th>\n",
       "      <td>0</td>\n",
       "      <td>3</td>\n",
       "      <td>male</td>\n",
       "      <td>21.0</td>\n",
       "      <td>0</td>\n",
       "      <td>0</td>\n",
       "      <td>7.7333</td>\n",
       "      <td>0</td>\n",
       "    </tr>\n",
       "    <tr>\n",
       "      <th>250</th>\n",
       "      <td>0</td>\n",
       "      <td>3</td>\n",
       "      <td>male</td>\n",
       "      <td>28.5</td>\n",
       "      <td>0</td>\n",
       "      <td>0</td>\n",
       "      <td>7.2500</td>\n",
       "      <td>0</td>\n",
       "    </tr>\n",
       "    <tr>\n",
       "      <th>818</th>\n",
       "      <td>0</td>\n",
       "      <td>3</td>\n",
       "      <td>male</td>\n",
       "      <td>43.0</td>\n",
       "      <td>0</td>\n",
       "      <td>0</td>\n",
       "      <td>6.4500</td>\n",
       "      <td>0</td>\n",
       "    </tr>\n",
       "    <tr>\n",
       "      <th>409</th>\n",
       "      <td>0</td>\n",
       "      <td>3</td>\n",
       "      <td>female</td>\n",
       "      <td>28.5</td>\n",
       "      <td>3</td>\n",
       "      <td>1</td>\n",
       "      <td>25.4667</td>\n",
       "      <td>4</td>\n",
       "    </tr>\n",
       "  </tbody>\n",
       "</table>\n",
       "</div>"
      ],
      "text/plain": [
       "     Survived  Pclass     Sex   Age  SibSp  Parch      Fare  Compag\n",
       "692         1       3    male  28.5      0      0   56.4958       0\n",
       "481         0       2    male  28.5      0      0    0.0000       0\n",
       "527         0       1    male  28.5      0      0  221.7792       0\n",
       "855         1       3  female  18.0      0      1    9.3500       1\n",
       "801         1       2  female  31.0      1      1   26.2500       2\n",
       "652         0       3    male  21.0      0      0    8.4333       0\n",
       "509         1       3    male  26.0      0      0   56.4958       0\n",
       "557         0       1    male  28.5      0      0  227.5250       0\n",
       "828         1       3    male  28.5      0      0    7.7500       0\n",
       "18          0       3  female  31.0      1      0   18.0000       1\n",
       "647         1       1    male  56.0      0      0   35.5000       0\n",
       "402         0       3  female  21.0      1      0    9.8250       1\n",
       "846         0       3    male  28.5      8      2   69.5500      10\n",
       "467         0       1    male  56.0      0      0   26.5500       0\n",
       "51          0       3    male  21.0      0      0    7.8000       0\n",
       "412         1       1  female  33.0      1      0   90.0000       1\n",
       "421         0       3    male  21.0      0      0    7.7333       0\n",
       "250         0       3    male  28.5      0      0    7.2500       0\n",
       "818         0       3    male  43.0      0      0    6.4500       0\n",
       "409         0       3  female  28.5      3      1   25.4667       4"
      ]
     },
     "execution_count": 17,
     "metadata": {},
     "output_type": "execute_result"
    }
   ],
   "source": [
    "titanic_train.head(20)"
   ]
  },
  {
   "cell_type": "markdown",
   "id": "b3ef3a60",
   "metadata": {
    "papermill": {
     "duration": 0.029768,
     "end_time": "2023-09-08T12:06:45.719467",
     "exception": false,
     "start_time": "2023-09-08T12:06:45.689699",
     "status": "completed"
    },
    "tags": []
   },
   "source": [
    "# Exploratory Data Analysis (EDA)"
   ]
  },
  {
   "cell_type": "code",
   "execution_count": 18,
   "id": "a4ef3f17",
   "metadata": {
    "execution": {
     "iopub.execute_input": "2023-09-08T12:06:45.778513Z",
     "iopub.status.busy": "2023-09-08T12:06:45.778002Z",
     "iopub.status.idle": "2023-09-08T12:06:46.068285Z",
     "shell.execute_reply": "2023-09-08T12:06:46.066991Z"
    },
    "papermill": {
     "duration": 0.323773,
     "end_time": "2023-09-08T12:06:46.071371",
     "exception": false,
     "start_time": "2023-09-08T12:06:45.747598",
     "status": "completed"
    },
    "tags": []
   },
   "outputs": [
    {
     "name": "stdout",
     "output_type": "stream",
     "text": [
      "Survived    0    1\n",
      "Pclass            \n",
      "1          60  111\n",
      "2          83   67\n",
      "3         296   95\n"
     ]
    },
    {
     "data": {
      "image/png": "[encoded data removed]",
      "text/plain": [
       "<Figure size 640x480 with 1 Axes>"
      ]
     },
     "metadata": {},
     "output_type": "display_data"
    }
   ],
   "source": [
    "crosstab_01 = pd.crosstab(titanic_train[\"Pclass\"], titanic_train[\"Survived\"])\n",
    "print(crosstab_01)\n",
    "crosstab_01.plot(kind=\"bar\", stacked=True)\n",
    "plt.show()"
   ]
  },
  {
   "cell_type": "code",
   "execution_count": 19,
   "id": "1238e481",
   "metadata": {
    "execution": {
     "iopub.execute_input": "2023-09-08T12:06:46.130543Z",
     "iopub.status.busy": "2023-09-08T12:06:46.130023Z",
     "iopub.status.idle": "2023-09-08T12:06:46.397757Z",
     "shell.execute_reply": "2023-09-08T12:06:46.396480Z"
    },
    "papermill": {
     "duration": 0.301127,
     "end_time": "2023-09-08T12:06:46.400543",
     "exception": false,
     "start_time": "2023-09-08T12:06:46.099416",
     "status": "completed"
    },
    "tags": []
   },
   "outputs": [
    {
     "name": "stdout",
     "output_type": "stream",
     "text": [
      "Survived         0         1\n",
      "Pclass                      \n",
      "1         0.350877  0.649123\n",
      "2         0.553333  0.446667\n",
      "3         0.757033  0.242967\n"
     ]
    },
    {
     "data": {
      "image/png": "[encoded data removed]",
      "text/plain": [
       "<Figure size 640x480 with 1 Axes>"
      ]
     },
     "metadata": {},
     "output_type": "display_data"
    }
   ],
   "source": [
    "crosstab_01_norm = crosstab_01.div(crosstab_01.sum(1), axis=0)\n",
    "print(crosstab_01_norm)\n",
    "crosstab_01_norm.plot(kind=\"bar\", stacked=True)\n",
    "plt.show()"
   ]
  },
  {
   "cell_type": "code",
   "execution_count": 20,
   "id": "48992658",
   "metadata": {
    "execution": {
     "iopub.execute_input": "2023-09-08T12:06:46.460154Z",
     "iopub.status.busy": "2023-09-08T12:06:46.459741Z",
     "iopub.status.idle": "2023-09-08T12:06:46.815212Z",
     "shell.execute_reply": "2023-09-08T12:06:46.813907Z"
    },
    "papermill": {
     "duration": 0.388322,
     "end_time": "2023-09-08T12:06:46.818009",
     "exception": false,
     "start_time": "2023-09-08T12:06:46.429687",
     "status": "completed"
    },
    "tags": []
   },
   "outputs": [
    {
     "name": "stdout",
     "output_type": "stream",
     "text": [
      "Survived  0  1\n",
      "Age           \n",
      "0.42      0  1\n",
      "0.67      0  1\n",
      "0.75      0  1\n",
      "0.83      0  2\n",
      "0.92      0  1\n",
      "...      .. ..\n",
      "70.00     1  0\n",
      "70.50     1  0\n",
      "71.00     2  0\n",
      "74.00     1  0\n",
      "80.00     0  1\n",
      "\n",
      "[85 rows x 2 columns]\n"
     ]
    },
    {
     "data": {
      "image/png": "[encoded data removed]",
      "text/plain": [
       "<Figure size 640x480 with 1 Axes>"
      ]
     },
     "metadata": {},
     "output_type": "display_data"
    }
   ],
   "source": [
    "crosstab_Age = pd.crosstab(titanic_train[\"Age\"], titanic_train[\"Survived\"])\n",
    "print(crosstab_Age)\n",
    "crosstab_Age.plot(kind=\"hist\", stacked=True)\n",
    "# crosstab_Age_norm = crosstab_Age.div(crosstab_Age.sum(1), axis=0)\n",
    "# print(crosstab_Age_norm)\n",
    "# crosstab_Age_norm.plot(kind=\"bar\", stacked=True)\n",
    "plt.show()"
   ]
  },
  {
   "cell_type": "code",
   "execution_count": 21,
   "id": "a675590a",
   "metadata": {
    "execution": {
     "iopub.execute_input": "2023-09-08T12:06:46.880487Z",
     "iopub.status.busy": "2023-09-08T12:06:46.879152Z",
     "iopub.status.idle": "2023-09-08T12:06:46.893548Z",
     "shell.execute_reply": "2023-09-08T12:06:46.892411Z"
    },
    "papermill": {
     "duration": 0.049537,
     "end_time": "2023-09-08T12:06:46.896800",
     "exception": false,
     "start_time": "2023-09-08T12:06:46.847263",
     "status": "completed"
    },
    "tags": []
   },
   "outputs": [
    {
     "name": "stdout",
     "output_type": "stream",
     "text": [
      "0.42 80.0\n"
     ]
    }
   ],
   "source": [
    "print(titanic_train[\"Age\"].min(), titanic_train[\"Age\"].max())\n",
    "titanic_train[\"Agebin\"] = pd.cut(x = titanic_train[\"Age\"],\n",
    "#                                  bins = [0, 20.01, 40.01, 60.01, 100],\n",
    "#                                  labels = [\"(0,20]\", \"(20,40]\", \"(40,60]\", \"(60,100)\"])\n",
    "                                 bins = [0, 10.01, 20.01, 30.01, 40.01, 50.01, 60.01, 100.0],\n",
    "                                 labels = [\"(0,10]\", \"(10,20]\", \"(20,30]\", \"(30,40]\", \"(40,50]\", \"(50,60]\", \"(60,100)\"])\n",
    "#                                  bins = [0, 15.01, 30.01, 45.01, 60.01, 75.01, 100],\n",
    "#                                  labels = [\"(0,15]\", \"(15,30]\", \"(30,45]\", \"(45,60]\", \"(60,75]\", \"(75,100)\"])"
   ]
  },
  {
   "cell_type": "code",
   "execution_count": 22,
   "id": "f19d9bc9",
   "metadata": {
    "execution": {
     "iopub.execute_input": "2023-09-08T12:06:46.958760Z",
     "iopub.status.busy": "2023-09-08T12:06:46.957959Z",
     "iopub.status.idle": "2023-09-08T12:06:47.573797Z",
     "shell.execute_reply": "2023-09-08T12:06:47.572532Z"
    },
    "papermill": {
     "duration": 0.649905,
     "end_time": "2023-09-08T12:06:47.576587",
     "exception": false,
     "start_time": "2023-09-08T12:06:46.926682",
     "status": "completed"
    },
    "tags": []
   },
   "outputs": [
    {
     "name": "stdout",
     "output_type": "stream",
     "text": [
      "Survived    0    1\n",
      "Agebin            \n",
      "(0,10]     20   32\n",
      "(10,20]    56   34\n",
      "(20,30]   215  103\n",
      "(30,40]    73   58\n",
      "(40,50]    40   31\n",
      "(50,60]    22   12\n",
      "(60,100)   13    3\n",
      "Survived         0         1\n",
      "Agebin                      \n",
      "(0,10]    0.384615  0.615385\n",
      "(10,20]   0.622222  0.377778\n",
      "(20,30]   0.676101  0.323899\n",
      "(30,40]   0.557252  0.442748\n",
      "(40,50]   0.563380  0.436620\n",
      "(50,60]   0.647059  0.352941\n",
      "(60,100)  0.812500  0.187500\n"
     ]
    },
    {
     "data": {
      "image/png": "[encoded data removed]",
      "text/plain": [
       "<Figure size 640x480 with 1 Axes>"
      ]
     },
     "metadata": {},
     "output_type": "display_data"
    },
    {
     "data": {
      "image/png": "[encoded data removed]",
      "text/plain": [
       "<Figure size 640x480 with 1 Axes>"
      ]
     },
     "metadata": {},
     "output_type": "display_data"
    }
   ],
   "source": [
    "crosstab_Agebin = pd.crosstab(titanic_train[\"Agebin\"], titanic_train[\"Survived\"])\n",
    "print(crosstab_Agebin)\n",
    "crosstab_Agebin.plot(kind=\"bar\", stacked=True)\n",
    "crosstab_Agebin_norm = crosstab_Agebin.div(crosstab_Agebin.sum(1), axis=0)\n",
    "print(crosstab_Agebin_norm)\n",
    "crosstab_Agebin_norm.plot(kind=\"bar\", stacked=True)\n",
    "plt.show()"
   ]
  },
  {
   "cell_type": "code",
   "execution_count": 23,
   "id": "7224573f",
   "metadata": {
    "execution": {
     "iopub.execute_input": "2023-09-08T12:06:47.639924Z",
     "iopub.status.busy": "2023-09-08T12:06:47.638841Z",
     "iopub.status.idle": "2023-09-08T12:06:51.243828Z",
     "shell.execute_reply": "2023-09-08T12:06:51.242349Z"
    },
    "papermill": {
     "duration": 3.640092,
     "end_time": "2023-09-08T12:06:51.246980",
     "exception": false,
     "start_time": "2023-09-08T12:06:47.606888",
     "status": "completed"
    },
    "tags": []
   },
   "outputs": [
    {
     "data": {
      "image/png": "[encoded data removed]",
      "text/plain": [
       "<Figure size 640x480 with 1 Axes>"
      ]
     },
     "metadata": {},
     "output_type": "display_data"
    },
    {
     "data": {
      "image/png": "[encoded data removed]",
      "text/plain": [
       "<Figure size 640x480 with 1 Axes>"
      ]
     },
     "metadata": {},
     "output_type": "display_data"
    },
    {
     "data": {
      "image/png": "[encoded data removed]",
      "text/plain": [
       "<Figure size 640x480 with 1 Axes>"
      ]
     },
     "metadata": {},
     "output_type": "display_data"
    }
   ],
   "source": [
    "# crosstab_Fare = pd.crosstab(titanic_train[\"Fare\"], titanic_train[\"Survived\"])\n",
    "# crosstab_Fare_norm = crosstab_Fare.div(crosstab_Fare.sum(1), axis=0)\n",
    "# crosstab_Fare.plot(kind=\"hist\", stacked=True)\n",
    "# crosstab_Fare_norm.plot(kind=\"bar\", stacked=True)\n",
    "plt.hist(titanic_train[\"Fare\"])\n",
    "plt.show()\n",
    "crosstab_Fare = pd.crosstab(titanic_train[\"Fare\"], titanic_train[\"Survived\"])\n",
    "crosstab_Fare_norm = crosstab_Fare.div(crosstab_Fare.sum(1), axis=0)\n",
    "crosstab_Fare.plot(kind=\"hist\", stacked=True)\n",
    "crosstab_Fare_norm.plot(kind=\"bar\", stacked=True)\n",
    "plt.show()"
   ]
  },
  {
   "cell_type": "code",
   "execution_count": 24,
   "id": "1aaeca9e",
   "metadata": {
    "execution": {
     "iopub.execute_input": "2023-09-08T12:06:51.316814Z",
     "iopub.status.busy": "2023-09-08T12:06:51.316403Z",
     "iopub.status.idle": "2023-09-08T12:06:51.911513Z",
     "shell.execute_reply": "2023-09-08T12:06:51.910204Z"
    },
    "papermill": {
     "duration": 0.633363,
     "end_time": "2023-09-08T12:06:51.914489",
     "exception": false,
     "start_time": "2023-09-08T12:06:51.281126",
     "status": "completed"
    },
    "tags": []
   },
   "outputs": [
    {
     "name": "stdout",
     "output_type": "stream",
     "text": [
      "0.0\n",
      "512.3292\n",
      "Survived     0    1\n",
      "Farebin            \n",
      "(0,25]     323  124\n",
      "(25,50]     79   58\n",
      "(50,75]     20   31\n",
      "(75,100]     7   27\n",
      "(100,150]    3   17\n",
      "(150,600)    7   16\n",
      "Survived          0         1\n",
      "Farebin                      \n",
      "(0,25]     0.722595  0.277405\n",
      "(25,50]    0.576642  0.423358\n",
      "(50,75]    0.392157  0.607843\n",
      "(75,100]   0.205882  0.794118\n",
      "(100,150]  0.150000  0.850000\n",
      "(150,600)  0.304348  0.695652\n"
     ]
    },
    {
     "data": {
      "image/png": "[encoded data removed]",
      "text/plain": [
       "<Figure size 640x480 with 1 Axes>"
      ]
     },
     "metadata": {},
     "output_type": "display_data"
    },
    {
     "data": {
      "image/png": "[encoded data removed]",
      "text/plain": [
       "<Figure size 640x480 with 1 Axes>"
      ]
     },
     "metadata": {},
     "output_type": "display_data"
    }
   ],
   "source": [
    "print(titanic_train[\"Fare\"].min())\n",
    "print(titanic_train[\"Fare\"].max())\n",
    "\n",
    "titanic_train[\"Farebin\"] = pd.cut(x = titanic_train[\"Fare\"],\n",
    "                                 bins = [-0.01, 25.01, 50.01, 75.01, 100.01, 150.01, 600.0],\n",
    "                                 labels = [\"(0,25]\", \"(25,50]\",\"(50,75]\", \"(75,100]\", \"(100,150]\", \"(150,600)\"])\n",
    "#                                  bins = [0, 50.01, 150.01, 600.0],\n",
    "#                                  labels = [\"(0,50]\", \"(50,150]\", \"(150,600)\"])\n",
    "#                                  bins = [0, 50.01, 100.01, 300.01, 600.0],\n",
    "#                                  labels = [\"(0,50]\", \"(50,100]\", \"(100,300]\", \"(300,600)\"])\n",
    "\n",
    "crosstab_Farebin = pd.crosstab(titanic_train[\"Farebin\"], titanic_train[\"Survived\"])\n",
    "crosstab_Farebin_norm = crosstab_Farebin.div(crosstab_Farebin.sum(1), axis=0)\n",
    "print(crosstab_Farebin)\n",
    "print(crosstab_Farebin_norm)\n",
    "crosstab_Farebin.plot(kind=\"bar\", stacked=True)\n",
    "crosstab_Farebin_norm.plot(kind=\"bar\", stacked=True)\n",
    "plt.show()"
   ]
  },
  {
   "cell_type": "code",
   "execution_count": 25,
   "id": "1ec53c80",
   "metadata": {
    "execution": {
     "iopub.execute_input": "2023-09-08T12:06:51.985020Z",
     "iopub.status.busy": "2023-09-08T12:06:51.983587Z",
     "iopub.status.idle": "2023-09-08T12:06:51.997055Z",
     "shell.execute_reply": "2023-09-08T12:06:51.995896Z"
    },
    "papermill": {
     "duration": 0.051556,
     "end_time": "2023-09-08T12:06:51.999498",
     "exception": false,
     "start_time": "2023-09-08T12:06:51.947942",
     "status": "completed"
    },
    "tags": []
   },
   "outputs": [
    {
     "data": {
      "text/plain": [
       "(Survived     0    1\n",
       " Farebin            \n",
       " (0,25]     323  124\n",
       " (25,50]     79   58\n",
       " (50,75]     20   31\n",
       " (75,100]     7   27\n",
       " (100,150]    3   17\n",
       " (150,600)    7   16,\n",
       " Survived          0         1\n",
       " Farebin                      \n",
       " (0,25]     0.722595  0.277405\n",
       " (25,50]    0.576642  0.423358\n",
       " (50,75]    0.392157  0.607843\n",
       " (75,100]   0.205882  0.794118\n",
       " (100,150]  0.150000  0.850000\n",
       " (150,600)  0.304348  0.695652)"
      ]
     },
     "execution_count": 25,
     "metadata": {},
     "output_type": "execute_result"
    }
   ],
   "source": [
    "crosstab_Farebin, crosstab_Farebin_norm"
   ]
  },
  {
   "cell_type": "code",
   "execution_count": 26,
   "id": "adf9b2bf",
   "metadata": {
    "execution": {
     "iopub.execute_input": "2023-09-08T12:06:52.068746Z",
     "iopub.status.busy": "2023-09-08T12:06:52.067761Z",
     "iopub.status.idle": "2023-09-08T12:06:52.081313Z",
     "shell.execute_reply": "2023-09-08T12:06:52.079937Z"
    },
    "papermill": {
     "duration": 0.050907,
     "end_time": "2023-09-08T12:06:52.083878",
     "exception": false,
     "start_time": "2023-09-08T12:06:52.032971",
     "status": "completed"
    },
    "tags": []
   },
   "outputs": [
    {
     "data": {
      "text/html": [
       "<div>\n",
       "<style scoped>\n",
       "    .dataframe tbody tr th:only-of-type {\n",
       "        vertical-align: middle;\n",
       "    }\n",
       "\n",
       "    .dataframe tbody tr th {\n",
       "        vertical-align: top;\n",
       "    }\n",
       "\n",
       "    .dataframe thead th {\n",
       "        text-align: right;\n",
       "    }\n",
       "</style>\n",
       "<table border=\"1\" class=\"dataframe\">\n",
       "  <thead>\n",
       "    <tr style=\"text-align: right;\">\n",
       "      <th></th>\n",
       "      <th>Survived</th>\n",
       "      <th>Pclass</th>\n",
       "      <th>Sex</th>\n",
       "      <th>Age</th>\n",
       "      <th>SibSp</th>\n",
       "      <th>Parch</th>\n",
       "      <th>Fare</th>\n",
       "      <th>Compag</th>\n",
       "      <th>Agebin</th>\n",
       "      <th>Farebin</th>\n",
       "    </tr>\n",
       "  </thead>\n",
       "  <tbody>\n",
       "  </tbody>\n",
       "</table>\n",
       "</div>"
      ],
      "text/plain": [
       "Empty DataFrame\n",
       "Columns: [Survived, Pclass, Sex, Age, SibSp, Parch, Fare, Compag, Agebin, Farebin]\n",
       "Index: []"
      ]
     },
     "execution_count": 26,
     "metadata": {},
     "output_type": "execute_result"
    }
   ],
   "source": [
    "titanic_train.loc[titanic_train[\"Farebin\"].isna()]"
   ]
  },
  {
   "cell_type": "code",
   "execution_count": 27,
   "id": "51bff8c0",
   "metadata": {
    "execution": {
     "iopub.execute_input": "2023-09-08T12:06:52.155399Z",
     "iopub.status.busy": "2023-09-08T12:06:52.154920Z",
     "iopub.status.idle": "2023-09-08T12:06:52.778431Z",
     "shell.execute_reply": "2023-09-08T12:06:52.776982Z"
    },
    "papermill": {
     "duration": 0.662947,
     "end_time": "2023-09-08T12:06:52.781166",
     "exception": false,
     "start_time": "2023-09-08T12:06:52.118219",
     "status": "completed"
    },
    "tags": []
   },
   "outputs": [
    {
     "data": {
      "image/png": "[encoded data removed]",
      "text/plain": [
       "<Figure size 640x480 with 1 Axes>"
      ]
     },
     "metadata": {},
     "output_type": "display_data"
    },
    {
     "data": {
      "image/png": "[encoded data removed]",
      "text/plain": [
       "<Figure size 640x480 with 1 Axes>"
      ]
     },
     "metadata": {},
     "output_type": "display_data"
    },
    {
     "data": {
      "text/html": [
       "<div>\n",
       "<style scoped>\n",
       "    .dataframe tbody tr th:only-of-type {\n",
       "        vertical-align: middle;\n",
       "    }\n",
       "\n",
       "    .dataframe tbody tr th {\n",
       "        vertical-align: top;\n",
       "    }\n",
       "\n",
       "    .dataframe thead th {\n",
       "        text-align: right;\n",
       "    }\n",
       "</style>\n",
       "<table border=\"1\" class=\"dataframe\">\n",
       "  <thead>\n",
       "    <tr style=\"text-align: right;\">\n",
       "      <th>Survived</th>\n",
       "      <th>0</th>\n",
       "      <th>1</th>\n",
       "    </tr>\n",
       "    <tr>\n",
       "      <th>Compag</th>\n",
       "      <th></th>\n",
       "      <th></th>\n",
       "    </tr>\n",
       "  </thead>\n",
       "  <tbody>\n",
       "    <tr>\n",
       "      <th>0</th>\n",
       "      <td>304</td>\n",
       "      <td>130</td>\n",
       "    </tr>\n",
       "    <tr>\n",
       "      <th>1</th>\n",
       "      <td>58</td>\n",
       "      <td>71</td>\n",
       "    </tr>\n",
       "    <tr>\n",
       "      <th>2</th>\n",
       "      <td>29</td>\n",
       "      <td>48</td>\n",
       "    </tr>\n",
       "    <tr>\n",
       "      <th>3</th>\n",
       "      <td>6</td>\n",
       "      <td>16</td>\n",
       "    </tr>\n",
       "    <tr>\n",
       "      <th>4</th>\n",
       "      <td>11</td>\n",
       "      <td>3</td>\n",
       "    </tr>\n",
       "    <tr>\n",
       "      <th>5</th>\n",
       "      <td>15</td>\n",
       "      <td>1</td>\n",
       "    </tr>\n",
       "    <tr>\n",
       "      <th>6</th>\n",
       "      <td>7</td>\n",
       "      <td>4</td>\n",
       "    </tr>\n",
       "    <tr>\n",
       "      <th>7</th>\n",
       "      <td>4</td>\n",
       "      <td>0</td>\n",
       "    </tr>\n",
       "    <tr>\n",
       "      <th>10</th>\n",
       "      <td>5</td>\n",
       "      <td>0</td>\n",
       "    </tr>\n",
       "  </tbody>\n",
       "</table>\n",
       "</div>"
      ],
      "text/plain": [
       "Survived    0    1\n",
       "Compag            \n",
       "0         304  130\n",
       "1          58   71\n",
       "2          29   48\n",
       "3           6   16\n",
       "4          11    3\n",
       "5          15    1\n",
       "6           7    4\n",
       "7           4    0\n",
       "10          5    0"
      ]
     },
     "execution_count": 27,
     "metadata": {},
     "output_type": "execute_result"
    }
   ],
   "source": [
    "crosstab_Compag = pd.crosstab(titanic_train[\"Compag\"], titanic_train[\"Survived\"])\n",
    "crosstab_Compag_norm = crosstab_Compag.div(crosstab_Compag.sum(1), axis=0)\n",
    "crosstab_Compag.plot(kind=\"bar\", stacked=True)\n",
    "crosstab_Compag_norm.plot(kind=\"bar\", stacked=True)\n",
    "plt.show()\n",
    "crosstab_Compag"
   ]
  },
  {
   "cell_type": "code",
   "execution_count": 28,
   "id": "95c1fd28",
   "metadata": {
    "execution": {
     "iopub.execute_input": "2023-09-08T12:06:52.850039Z",
     "iopub.status.busy": "2023-09-08T12:06:52.849647Z",
     "iopub.status.idle": "2023-09-08T12:06:53.589332Z",
     "shell.execute_reply": "2023-09-08T12:06:53.588006Z"
    },
    "papermill": {
     "duration": 0.777358,
     "end_time": "2023-09-08T12:06:53.592163",
     "exception": false,
     "start_time": "2023-09-08T12:06:52.814805",
     "status": "completed"
    },
    "tags": []
   },
   "outputs": [
    {
     "data": {
      "image/png": "[encoded data removed]",
      "text/plain": [
       "<Figure size 640x480 with 1 Axes>"
      ]
     },
     "metadata": {},
     "output_type": "display_data"
    },
    {
     "data": {
      "image/png": "[encoded data removed]",
      "text/plain": [
       "<Figure size 640x480 with 1 Axes>"
      ]
     },
     "metadata": {},
     "output_type": "display_data"
    }
   ],
   "source": [
    "crosstab_Parch = pd.crosstab(titanic_train[\"Parch\"], titanic_train[\"Survived\"])\n",
    "crosstab_Parch_norm = crosstab_Parch.div(crosstab_Parch.sum(1), axis=0)\n",
    "crosstab_Parch.plot(kind=\"bar\", stacked=True)\n",
    "crosstab_Parch_norm.plot(kind=\"bar\", stacked=True)\n",
    "plt.show()"
   ]
  },
  {
   "cell_type": "code",
   "execution_count": 29,
   "id": "67636ec4",
   "metadata": {
    "execution": {
     "iopub.execute_input": "2023-09-08T12:06:53.666770Z",
     "iopub.status.busy": "2023-09-08T12:06:53.665661Z",
     "iopub.status.idle": "2023-09-08T12:06:54.229580Z",
     "shell.execute_reply": "2023-09-08T12:06:54.228457Z"
    },
    "papermill": {
     "duration": 0.604147,
     "end_time": "2023-09-08T12:06:54.231915",
     "exception": false,
     "start_time": "2023-09-08T12:06:53.627768",
     "status": "completed"
    },
    "tags": []
   },
   "outputs": [
    {
     "data": {
      "image/png": "[encoded data removed]",
      "text/plain": [
       "<Figure size 640x480 with 1 Axes>"
      ]
     },
     "metadata": {},
     "output_type": "display_data"
    },
    {
     "data": {
      "image/png": "[encoded data removed]",
      "text/plain": [
       "<Figure size 640x480 with 1 Axes>"
      ]
     },
     "metadata": {},
     "output_type": "display_data"
    },
    {
     "data": {
      "text/html": [
       "<div>\n",
       "<style scoped>\n",
       "    .dataframe tbody tr th:only-of-type {\n",
       "        vertical-align: middle;\n",
       "    }\n",
       "\n",
       "    .dataframe tbody tr th {\n",
       "        vertical-align: top;\n",
       "    }\n",
       "\n",
       "    .dataframe thead th {\n",
       "        text-align: right;\n",
       "    }\n",
       "</style>\n",
       "<table border=\"1\" class=\"dataframe\">\n",
       "  <thead>\n",
       "    <tr style=\"text-align: right;\">\n",
       "      <th>Survived</th>\n",
       "      <th>0</th>\n",
       "      <th>1</th>\n",
       "    </tr>\n",
       "    <tr>\n",
       "      <th>Compagbin</th>\n",
       "      <th></th>\n",
       "      <th></th>\n",
       "    </tr>\n",
       "  </thead>\n",
       "  <tbody>\n",
       "    <tr>\n",
       "      <th>0</th>\n",
       "      <td>304</td>\n",
       "      <td>130</td>\n",
       "    </tr>\n",
       "    <tr>\n",
       "      <th>1</th>\n",
       "      <td>58</td>\n",
       "      <td>71</td>\n",
       "    </tr>\n",
       "    <tr>\n",
       "      <th>2</th>\n",
       "      <td>29</td>\n",
       "      <td>48</td>\n",
       "    </tr>\n",
       "    <tr>\n",
       "      <th>3</th>\n",
       "      <td>6</td>\n",
       "      <td>16</td>\n",
       "    </tr>\n",
       "    <tr>\n",
       "      <th>&gt;3</th>\n",
       "      <td>42</td>\n",
       "      <td>8</td>\n",
       "    </tr>\n",
       "  </tbody>\n",
       "</table>\n",
       "</div>"
      ],
      "text/plain": [
       "Survived     0    1\n",
       "Compagbin          \n",
       "0          304  130\n",
       "1           58   71\n",
       "2           29   48\n",
       "3            6   16\n",
       ">3          42    8"
      ]
     },
     "execution_count": 29,
     "metadata": {},
     "output_type": "execute_result"
    }
   ],
   "source": [
    "titanic_train[\"Compagbin\"] = pd.cut(x = titanic_train[\"Compag\"],bins = [-1, 0, 1, 2, 3, 20], labels = [\"0\", \"1\", \"2\", \"3\", \">3\"])\n",
    "titanic_train\n",
    "crosstab_Compagbin = pd.crosstab(titanic_train[\"Compagbin\"], titanic_train[\"Survived\"])\n",
    "crosstab_Compagbin_norm = crosstab_Compagbin.div(crosstab_Compagbin.sum(1), axis=0)\n",
    "crosstab_Compagbin.plot(kind=\"bar\", stacked=True)\n",
    "crosstab_Compagbin_norm.plot(kind=\"bar\", stacked=True)\n",
    "plt.show()\n",
    "crosstab_Compagbin"
   ]
  },
  {
   "cell_type": "code",
   "execution_count": 30,
   "id": "ac06d3a2",
   "metadata": {
    "execution": {
     "iopub.execute_input": "2023-09-08T12:06:54.303601Z",
     "iopub.status.busy": "2023-09-08T12:06:54.303145Z",
     "iopub.status.idle": "2023-09-08T12:06:54.319296Z",
     "shell.execute_reply": "2023-09-08T12:06:54.317890Z"
    },
    "papermill": {
     "duration": 0.055167,
     "end_time": "2023-09-08T12:06:54.322209",
     "exception": false,
     "start_time": "2023-09-08T12:06:54.267042",
     "status": "completed"
    },
    "tags": []
   },
   "outputs": [
    {
     "name": "stdout",
     "output_type": "stream",
     "text": [
      "<class 'pandas.core.frame.DataFrame'>\n",
      "Index: 712 entries, 692 to 507\n",
      "Data columns (total 11 columns):\n",
      " #   Column     Non-Null Count  Dtype   \n",
      "---  ------     --------------  -----   \n",
      " 0   Survived   712 non-null    int64   \n",
      " 1   Pclass     712 non-null    int64   \n",
      " 2   Sex        712 non-null    object  \n",
      " 3   Age        712 non-null    float64 \n",
      " 4   SibSp      712 non-null    int64   \n",
      " 5   Parch      712 non-null    int64   \n",
      " 6   Fare       712 non-null    float64 \n",
      " 7   Compag     712 non-null    int64   \n",
      " 8   Agebin     712 non-null    category\n",
      " 9   Farebin    712 non-null    category\n",
      " 10  Compagbin  712 non-null    category\n",
      "dtypes: category(3), float64(2), int64(5), object(1)\n",
      "memory usage: 52.9+ KB\n"
     ]
    }
   ],
   "source": [
    "titanic_train.info()"
   ]
  },
  {
   "cell_type": "markdown",
   "id": "cc7ef2c0",
   "metadata": {
    "papermill": {
     "duration": 0.035561,
     "end_time": "2023-09-08T12:06:54.392970",
     "exception": false,
     "start_time": "2023-09-08T12:06:54.357409",
     "status": "completed"
    },
    "tags": []
   },
   "source": [
    "# Handling Categorial Features"
   ]
  },
  {
   "cell_type": "code",
   "execution_count": 31,
   "id": "471e3145",
   "metadata": {
    "execution": {
     "iopub.execute_input": "2023-09-08T12:06:54.465626Z",
     "iopub.status.busy": "2023-09-08T12:06:54.465188Z",
     "iopub.status.idle": "2023-09-08T12:06:54.477021Z",
     "shell.execute_reply": "2023-09-08T12:06:54.476132Z"
    },
    "papermill": {
     "duration": 0.050589,
     "end_time": "2023-09-08T12:06:54.479409",
     "exception": false,
     "start_time": "2023-09-08T12:06:54.428820",
     "status": "completed"
    },
    "tags": []
   },
   "outputs": [],
   "source": [
    "# titanic_train[\"Pclass\"] = titanic_train[\"Pclass\"].astype(\"category\")\n",
    "titanic_train_prepared = titanic_train.drop([\"Age\", \"SibSp\", \"Parch\", \"Fare\", \"Compag\"], axis=1)\n",
    "titanic_train_encoded = pd.get_dummies(titanic_train_prepared)"
   ]
  },
  {
   "cell_type": "code",
   "execution_count": 32,
   "id": "ce05d4d6",
   "metadata": {
    "execution": {
     "iopub.execute_input": "2023-09-08T12:06:54.551327Z",
     "iopub.status.busy": "2023-09-08T12:06:54.550628Z",
     "iopub.status.idle": "2023-09-08T12:06:54.586355Z",
     "shell.execute_reply": "2023-09-08T12:06:54.585196Z"
    },
    "papermill": {
     "duration": 0.074951,
     "end_time": "2023-09-08T12:06:54.588997",
     "exception": false,
     "start_time": "2023-09-08T12:06:54.514046",
     "status": "completed"
    },
    "tags": []
   },
   "outputs": [
    {
     "data": {
      "text/html": [
       "<div>\n",
       "<style scoped>\n",
       "    .dataframe tbody tr th:only-of-type {\n",
       "        vertical-align: middle;\n",
       "    }\n",
       "\n",
       "    .dataframe tbody tr th {\n",
       "        vertical-align: top;\n",
       "    }\n",
       "\n",
       "    .dataframe thead th {\n",
       "        text-align: right;\n",
       "    }\n",
       "</style>\n",
       "<table border=\"1\" class=\"dataframe\">\n",
       "  <thead>\n",
       "    <tr style=\"text-align: right;\">\n",
       "      <th></th>\n",
       "      <th>Survived</th>\n",
       "      <th>Pclass</th>\n",
       "      <th>Sex_female</th>\n",
       "      <th>Sex_male</th>\n",
       "      <th>Agebin_(0,10]</th>\n",
       "      <th>Agebin_(10,20]</th>\n",
       "      <th>Agebin_(20,30]</th>\n",
       "      <th>Agebin_(30,40]</th>\n",
       "      <th>Agebin_(40,50]</th>\n",
       "      <th>Agebin_(50,60]</th>\n",
       "      <th>...</th>\n",
       "      <th>Farebin_(25,50]</th>\n",
       "      <th>Farebin_(50,75]</th>\n",
       "      <th>Farebin_(75,100]</th>\n",
       "      <th>Farebin_(100,150]</th>\n",
       "      <th>Farebin_(150,600)</th>\n",
       "      <th>Compagbin_0</th>\n",
       "      <th>Compagbin_1</th>\n",
       "      <th>Compagbin_2</th>\n",
       "      <th>Compagbin_3</th>\n",
       "      <th>Compagbin_&gt;3</th>\n",
       "    </tr>\n",
       "  </thead>\n",
       "  <tbody>\n",
       "    <tr>\n",
       "      <th>692</th>\n",
       "      <td>1</td>\n",
       "      <td>3</td>\n",
       "      <td>False</td>\n",
       "      <td>True</td>\n",
       "      <td>False</td>\n",
       "      <td>False</td>\n",
       "      <td>True</td>\n",
       "      <td>False</td>\n",
       "      <td>False</td>\n",
       "      <td>False</td>\n",
       "      <td>...</td>\n",
       "      <td>False</td>\n",
       "      <td>True</td>\n",
       "      <td>False</td>\n",
       "      <td>False</td>\n",
       "      <td>False</td>\n",
       "      <td>True</td>\n",
       "      <td>False</td>\n",
       "      <td>False</td>\n",
       "      <td>False</td>\n",
       "      <td>False</td>\n",
       "    </tr>\n",
       "    <tr>\n",
       "      <th>481</th>\n",
       "      <td>0</td>\n",
       "      <td>2</td>\n",
       "      <td>False</td>\n",
       "      <td>True</td>\n",
       "      <td>False</td>\n",
       "      <td>False</td>\n",
       "      <td>True</td>\n",
       "      <td>False</td>\n",
       "      <td>False</td>\n",
       "      <td>False</td>\n",
       "      <td>...</td>\n",
       "      <td>False</td>\n",
       "      <td>False</td>\n",
       "      <td>False</td>\n",
       "      <td>False</td>\n",
       "      <td>False</td>\n",
       "      <td>True</td>\n",
       "      <td>False</td>\n",
       "      <td>False</td>\n",
       "      <td>False</td>\n",
       "      <td>False</td>\n",
       "    </tr>\n",
       "    <tr>\n",
       "      <th>527</th>\n",
       "      <td>0</td>\n",
       "      <td>1</td>\n",
       "      <td>False</td>\n",
       "      <td>True</td>\n",
       "      <td>False</td>\n",
       "      <td>False</td>\n",
       "      <td>True</td>\n",
       "      <td>False</td>\n",
       "      <td>False</td>\n",
       "      <td>False</td>\n",
       "      <td>...</td>\n",
       "      <td>False</td>\n",
       "      <td>False</td>\n",
       "      <td>False</td>\n",
       "      <td>False</td>\n",
       "      <td>True</td>\n",
       "      <td>True</td>\n",
       "      <td>False</td>\n",
       "      <td>False</td>\n",
       "      <td>False</td>\n",
       "      <td>False</td>\n",
       "    </tr>\n",
       "    <tr>\n",
       "      <th>855</th>\n",
       "      <td>1</td>\n",
       "      <td>3</td>\n",
       "      <td>True</td>\n",
       "      <td>False</td>\n",
       "      <td>False</td>\n",
       "      <td>True</td>\n",
       "      <td>False</td>\n",
       "      <td>False</td>\n",
       "      <td>False</td>\n",
       "      <td>False</td>\n",
       "      <td>...</td>\n",
       "      <td>False</td>\n",
       "      <td>False</td>\n",
       "      <td>False</td>\n",
       "      <td>False</td>\n",
       "      <td>False</td>\n",
       "      <td>False</td>\n",
       "      <td>True</td>\n",
       "      <td>False</td>\n",
       "      <td>False</td>\n",
       "      <td>False</td>\n",
       "    </tr>\n",
       "    <tr>\n",
       "      <th>801</th>\n",
       "      <td>1</td>\n",
       "      <td>2</td>\n",
       "      <td>True</td>\n",
       "      <td>False</td>\n",
       "      <td>False</td>\n",
       "      <td>False</td>\n",
       "      <td>False</td>\n",
       "      <td>True</td>\n",
       "      <td>False</td>\n",
       "      <td>False</td>\n",
       "      <td>...</td>\n",
       "      <td>True</td>\n",
       "      <td>False</td>\n",
       "      <td>False</td>\n",
       "      <td>False</td>\n",
       "      <td>False</td>\n",
       "      <td>False</td>\n",
       "      <td>False</td>\n",
       "      <td>True</td>\n",
       "      <td>False</td>\n",
       "      <td>False</td>\n",
       "    </tr>\n",
       "    <tr>\n",
       "      <th>652</th>\n",
       "      <td>0</td>\n",
       "      <td>3</td>\n",
       "      <td>False</td>\n",
       "      <td>True</td>\n",
       "      <td>False</td>\n",
       "      <td>False</td>\n",
       "      <td>True</td>\n",
       "      <td>False</td>\n",
       "      <td>False</td>\n",
       "      <td>False</td>\n",
       "      <td>...</td>\n",
       "      <td>False</td>\n",
       "      <td>False</td>\n",
       "      <td>False</td>\n",
       "      <td>False</td>\n",
       "      <td>False</td>\n",
       "      <td>True</td>\n",
       "      <td>False</td>\n",
       "      <td>False</td>\n",
       "      <td>False</td>\n",
       "      <td>False</td>\n",
       "    </tr>\n",
       "    <tr>\n",
       "      <th>509</th>\n",
       "      <td>1</td>\n",
       "      <td>3</td>\n",
       "      <td>False</td>\n",
       "      <td>True</td>\n",
       "      <td>False</td>\n",
       "      <td>False</td>\n",
       "      <td>True</td>\n",
       "      <td>False</td>\n",
       "      <td>False</td>\n",
       "      <td>False</td>\n",
       "      <td>...</td>\n",
       "      <td>False</td>\n",
       "      <td>True</td>\n",
       "      <td>False</td>\n",
       "      <td>False</td>\n",
       "      <td>False</td>\n",
       "      <td>True</td>\n",
       "      <td>False</td>\n",
       "      <td>False</td>\n",
       "      <td>False</td>\n",
       "      <td>False</td>\n",
       "    </tr>\n",
       "    <tr>\n",
       "      <th>557</th>\n",
       "      <td>0</td>\n",
       "      <td>1</td>\n",
       "      <td>False</td>\n",
       "      <td>True</td>\n",
       "      <td>False</td>\n",
       "      <td>False</td>\n",
       "      <td>True</td>\n",
       "      <td>False</td>\n",
       "      <td>False</td>\n",
       "      <td>False</td>\n",
       "      <td>...</td>\n",
       "      <td>False</td>\n",
       "      <td>False</td>\n",
       "      <td>False</td>\n",
       "      <td>False</td>\n",
       "      <td>True</td>\n",
       "      <td>True</td>\n",
       "      <td>False</td>\n",
       "      <td>False</td>\n",
       "      <td>False</td>\n",
       "      <td>False</td>\n",
       "    </tr>\n",
       "    <tr>\n",
       "      <th>828</th>\n",
       "      <td>1</td>\n",
       "      <td>3</td>\n",
       "      <td>False</td>\n",
       "      <td>True</td>\n",
       "      <td>False</td>\n",
       "      <td>False</td>\n",
       "      <td>True</td>\n",
       "      <td>False</td>\n",
       "      <td>False</td>\n",
       "      <td>False</td>\n",
       "      <td>...</td>\n",
       "      <td>False</td>\n",
       "      <td>False</td>\n",
       "      <td>False</td>\n",
       "      <td>False</td>\n",
       "      <td>False</td>\n",
       "      <td>True</td>\n",
       "      <td>False</td>\n",
       "      <td>False</td>\n",
       "      <td>False</td>\n",
       "      <td>False</td>\n",
       "    </tr>\n",
       "    <tr>\n",
       "      <th>18</th>\n",
       "      <td>0</td>\n",
       "      <td>3</td>\n",
       "      <td>True</td>\n",
       "      <td>False</td>\n",
       "      <td>False</td>\n",
       "      <td>False</td>\n",
       "      <td>False</td>\n",
       "      <td>True</td>\n",
       "      <td>False</td>\n",
       "      <td>False</td>\n",
       "      <td>...</td>\n",
       "      <td>False</td>\n",
       "      <td>False</td>\n",
       "      <td>False</td>\n",
       "      <td>False</td>\n",
       "      <td>False</td>\n",
       "      <td>False</td>\n",
       "      <td>True</td>\n",
       "      <td>False</td>\n",
       "      <td>False</td>\n",
       "      <td>False</td>\n",
       "    </tr>\n",
       "    <tr>\n",
       "      <th>647</th>\n",
       "      <td>1</td>\n",
       "      <td>1</td>\n",
       "      <td>False</td>\n",
       "      <td>True</td>\n",
       "      <td>False</td>\n",
       "      <td>False</td>\n",
       "      <td>False</td>\n",
       "      <td>False</td>\n",
       "      <td>False</td>\n",
       "      <td>True</td>\n",
       "      <td>...</td>\n",
       "      <td>True</td>\n",
       "      <td>False</td>\n",
       "      <td>False</td>\n",
       "      <td>False</td>\n",
       "      <td>False</td>\n",
       "      <td>True</td>\n",
       "      <td>False</td>\n",
       "      <td>False</td>\n",
       "      <td>False</td>\n",
       "      <td>False</td>\n",
       "    </tr>\n",
       "    <tr>\n",
       "      <th>402</th>\n",
       "      <td>0</td>\n",
       "      <td>3</td>\n",
       "      <td>True</td>\n",
       "      <td>False</td>\n",
       "      <td>False</td>\n",
       "      <td>False</td>\n",
       "      <td>True</td>\n",
       "      <td>False</td>\n",
       "      <td>False</td>\n",
       "      <td>False</td>\n",
       "      <td>...</td>\n",
       "      <td>False</td>\n",
       "      <td>False</td>\n",
       "      <td>False</td>\n",
       "      <td>False</td>\n",
       "      <td>False</td>\n",
       "      <td>False</td>\n",
       "      <td>True</td>\n",
       "      <td>False</td>\n",
       "      <td>False</td>\n",
       "      <td>False</td>\n",
       "    </tr>\n",
       "    <tr>\n",
       "      <th>846</th>\n",
       "      <td>0</td>\n",
       "      <td>3</td>\n",
       "      <td>False</td>\n",
       "      <td>True</td>\n",
       "      <td>False</td>\n",
       "      <td>False</td>\n",
       "      <td>True</td>\n",
       "      <td>False</td>\n",
       "      <td>False</td>\n",
       "      <td>False</td>\n",
       "      <td>...</td>\n",
       "      <td>False</td>\n",
       "      <td>True</td>\n",
       "      <td>False</td>\n",
       "      <td>False</td>\n",
       "      <td>False</td>\n",
       "      <td>False</td>\n",
       "      <td>False</td>\n",
       "      <td>False</td>\n",
       "      <td>False</td>\n",
       "      <td>True</td>\n",
       "    </tr>\n",
       "    <tr>\n",
       "      <th>467</th>\n",
       "      <td>0</td>\n",
       "      <td>1</td>\n",
       "      <td>False</td>\n",
       "      <td>True</td>\n",
       "      <td>False</td>\n",
       "      <td>False</td>\n",
       "      <td>False</td>\n",
       "      <td>False</td>\n",
       "      <td>False</td>\n",
       "      <td>True</td>\n",
       "      <td>...</td>\n",
       "      <td>True</td>\n",
       "      <td>False</td>\n",
       "      <td>False</td>\n",
       "      <td>False</td>\n",
       "      <td>False</td>\n",
       "      <td>True</td>\n",
       "      <td>False</td>\n",
       "      <td>False</td>\n",
       "      <td>False</td>\n",
       "      <td>False</td>\n",
       "    </tr>\n",
       "    <tr>\n",
       "      <th>51</th>\n",
       "      <td>0</td>\n",
       "      <td>3</td>\n",
       "      <td>False</td>\n",
       "      <td>True</td>\n",
       "      <td>False</td>\n",
       "      <td>False</td>\n",
       "      <td>True</td>\n",
       "      <td>False</td>\n",
       "      <td>False</td>\n",
       "      <td>False</td>\n",
       "      <td>...</td>\n",
       "      <td>False</td>\n",
       "      <td>False</td>\n",
       "      <td>False</td>\n",
       "      <td>False</td>\n",
       "      <td>False</td>\n",
       "      <td>True</td>\n",
       "      <td>False</td>\n",
       "      <td>False</td>\n",
       "      <td>False</td>\n",
       "      <td>False</td>\n",
       "    </tr>\n",
       "    <tr>\n",
       "      <th>412</th>\n",
       "      <td>1</td>\n",
       "      <td>1</td>\n",
       "      <td>True</td>\n",
       "      <td>False</td>\n",
       "      <td>False</td>\n",
       "      <td>False</td>\n",
       "      <td>False</td>\n",
       "      <td>True</td>\n",
       "      <td>False</td>\n",
       "      <td>False</td>\n",
       "      <td>...</td>\n",
       "      <td>False</td>\n",
       "      <td>False</td>\n",
       "      <td>True</td>\n",
       "      <td>False</td>\n",
       "      <td>False</td>\n",
       "      <td>False</td>\n",
       "      <td>True</td>\n",
       "      <td>False</td>\n",
       "      <td>False</td>\n",
       "      <td>False</td>\n",
       "    </tr>\n",
       "    <tr>\n",
       "      <th>421</th>\n",
       "      <td>0</td>\n",
       "      <td>3</td>\n",
       "      <td>False</td>\n",
       "      <td>True</td>\n",
       "      <td>False</td>\n",
       "      <td>False</td>\n",
       "      <td>True</td>\n",
       "      <td>False</td>\n",
       "      <td>False</td>\n",
       "      <td>False</td>\n",
       "      <td>...</td>\n",
       "      <td>False</td>\n",
       "      <td>False</td>\n",
       "      <td>False</td>\n",
       "      <td>False</td>\n",
       "      <td>False</td>\n",
       "      <td>True</td>\n",
       "      <td>False</td>\n",
       "      <td>False</td>\n",
       "      <td>False</td>\n",
       "      <td>False</td>\n",
       "    </tr>\n",
       "    <tr>\n",
       "      <th>250</th>\n",
       "      <td>0</td>\n",
       "      <td>3</td>\n",
       "      <td>False</td>\n",
       "      <td>True</td>\n",
       "      <td>False</td>\n",
       "      <td>False</td>\n",
       "      <td>True</td>\n",
       "      <td>False</td>\n",
       "      <td>False</td>\n",
       "      <td>False</td>\n",
       "      <td>...</td>\n",
       "      <td>False</td>\n",
       "      <td>False</td>\n",
       "      <td>False</td>\n",
       "      <td>False</td>\n",
       "      <td>False</td>\n",
       "      <td>True</td>\n",
       "      <td>False</td>\n",
       "      <td>False</td>\n",
       "      <td>False</td>\n",
       "      <td>False</td>\n",
       "    </tr>\n",
       "    <tr>\n",
       "      <th>818</th>\n",
       "      <td>0</td>\n",
       "      <td>3</td>\n",
       "      <td>False</td>\n",
       "      <td>True</td>\n",
       "      <td>False</td>\n",
       "      <td>False</td>\n",
       "      <td>False</td>\n",
       "      <td>False</td>\n",
       "      <td>True</td>\n",
       "      <td>False</td>\n",
       "      <td>...</td>\n",
       "      <td>False</td>\n",
       "      <td>False</td>\n",
       "      <td>False</td>\n",
       "      <td>False</td>\n",
       "      <td>False</td>\n",
       "      <td>True</td>\n",
       "      <td>False</td>\n",
       "      <td>False</td>\n",
       "      <td>False</td>\n",
       "      <td>False</td>\n",
       "    </tr>\n",
       "    <tr>\n",
       "      <th>409</th>\n",
       "      <td>0</td>\n",
       "      <td>3</td>\n",
       "      <td>True</td>\n",
       "      <td>False</td>\n",
       "      <td>False</td>\n",
       "      <td>False</td>\n",
       "      <td>True</td>\n",
       "      <td>False</td>\n",
       "      <td>False</td>\n",
       "      <td>False</td>\n",
       "      <td>...</td>\n",
       "      <td>True</td>\n",
       "      <td>False</td>\n",
       "      <td>False</td>\n",
       "      <td>False</td>\n",
       "      <td>False</td>\n",
       "      <td>False</td>\n",
       "      <td>False</td>\n",
       "      <td>False</td>\n",
       "      <td>False</td>\n",
       "      <td>True</td>\n",
       "    </tr>\n",
       "  </tbody>\n",
       "</table>\n",
       "<p>20 rows × 22 columns</p>\n",
       "</div>"
      ],
      "text/plain": [
       "     Survived  Pclass  Sex_female  Sex_male  Agebin_(0,10]  Agebin_(10,20]  \\\n",
       "692         1       3       False      True          False           False   \n",
       "481         0       2       False      True          False           False   \n",
       "527         0       1       False      True          False           False   \n",
       "855         1       3        True     False          False            True   \n",
       "801         1       2        True     False          False           False   \n",
       "652         0       3       False      True          False           False   \n",
       "509         1       3       False      True          False           False   \n",
       "557         0       1       False      True          False           False   \n",
       "828         1       3       False      True          False           False   \n",
       "18          0       3        True     False          False           False   \n",
       "647         1       1       False      True          False           False   \n",
       "402         0       3        True     False          False           False   \n",
       "846         0       3       False      True          False           False   \n",
       "467         0       1       False      True          False           False   \n",
       "51          0       3       False      True          False           False   \n",
       "412         1       1        True     False          False           False   \n",
       "421         0       3       False      True          False           False   \n",
       "250         0       3       False      True          False           False   \n",
       "818         0       3       False      True          False           False   \n",
       "409         0       3        True     False          False           False   \n",
       "\n",
       "     Agebin_(20,30]  Agebin_(30,40]  Agebin_(40,50]  Agebin_(50,60]  ...  \\\n",
       "692            True           False           False           False  ...   \n",
       "481            True           False           False           False  ...   \n",
       "527            True           False           False           False  ...   \n",
       "855           False           False           False           False  ...   \n",
       "801           False            True           False           False  ...   \n",
       "652            True           False           False           False  ...   \n",
       "509            True           False           False           False  ...   \n",
       "557            True           False           False           False  ...   \n",
       "828            True           False           False           False  ...   \n",
       "18            False            True           False           False  ...   \n",
       "647           False           False           False            True  ...   \n",
       "402            True           False           False           False  ...   \n",
       "846            True           False           False           False  ...   \n",
       "467           False           False           False            True  ...   \n",
       "51             True           False           False           False  ...   \n",
       "412           False            True           False           False  ...   \n",
       "421            True           False           False           False  ...   \n",
       "250            True           False           False           False  ...   \n",
       "818           False           False            True           False  ...   \n",
       "409            True           False           False           False  ...   \n",
       "\n",
       "     Farebin_(25,50]  Farebin_(50,75]  Farebin_(75,100]  Farebin_(100,150]  \\\n",
       "692            False             True             False              False   \n",
       "481            False            False             False              False   \n",
       "527            False            False             False              False   \n",
       "855            False            False             False              False   \n",
       "801             True            False             False              False   \n",
       "652            False            False             False              False   \n",
       "509            False             True             False              False   \n",
       "557            False            False             False              False   \n",
       "828            False            False             False              False   \n",
       "18             False            False             False              False   \n",
       "647             True            False             False              False   \n",
       "402            False            False             False              False   \n",
       "846            False             True             False              False   \n",
       "467             True            False             False              False   \n",
       "51             False            False             False              False   \n",
       "412            False            False              True              False   \n",
       "421            False            False             False              False   \n",
       "250            False            False             False              False   \n",
       "818            False            False             False              False   \n",
       "409             True            False             False              False   \n",
       "\n",
       "     Farebin_(150,600)  Compagbin_0  Compagbin_1  Compagbin_2  Compagbin_3  \\\n",
       "692              False         True        False        False        False   \n",
       "481              False         True        False        False        False   \n",
       "527               True         True        False        False        False   \n",
       "855              False        False         True        False        False   \n",
       "801              False        False        False         True        False   \n",
       "652              False         True        False        False        False   \n",
       "509              False         True        False        False        False   \n",
       "557               True         True        False        False        False   \n",
       "828              False         True        False        False        False   \n",
       "18               False        False         True        False        False   \n",
       "647              False         True        False        False        False   \n",
       "402              False        False         True        False        False   \n",
       "846              False        False        False        False        False   \n",
       "467              False         True        False        False        False   \n",
       "51               False         True        False        False        False   \n",
       "412              False        False         True        False        False   \n",
       "421              False         True        False        False        False   \n",
       "250              False         True        False        False        False   \n",
       "818              False         True        False        False        False   \n",
       "409              False        False        False        False        False   \n",
       "\n",
       "     Compagbin_>3  \n",
       "692         False  \n",
       "481         False  \n",
       "527         False  \n",
       "855         False  \n",
       "801         False  \n",
       "652         False  \n",
       "509         False  \n",
       "557         False  \n",
       "828         False  \n",
       "18          False  \n",
       "647         False  \n",
       "402         False  \n",
       "846          True  \n",
       "467         False  \n",
       "51          False  \n",
       "412         False  \n",
       "421         False  \n",
       "250         False  \n",
       "818         False  \n",
       "409          True  \n",
       "\n",
       "[20 rows x 22 columns]"
      ]
     },
     "execution_count": 32,
     "metadata": {},
     "output_type": "execute_result"
    }
   ],
   "source": [
    "titanic_train_encoded.head(20)"
   ]
  },
  {
   "cell_type": "markdown",
   "id": "351f2b0b",
   "metadata": {
    "papermill": {
     "duration": 0.036415,
     "end_time": "2023-09-08T12:06:54.661708",
     "exception": false,
     "start_time": "2023-09-08T12:06:54.625293",
     "status": "completed"
    },
    "tags": []
   },
   "source": [
    "# Transforming dev"
   ]
  },
  {
   "cell_type": "code",
   "execution_count": 33,
   "id": "abb51505",
   "metadata": {
    "execution": {
     "iopub.execute_input": "2023-09-08T12:06:54.737962Z",
     "iopub.status.busy": "2023-09-08T12:06:54.736526Z",
     "iopub.status.idle": "2023-09-08T12:06:54.759769Z",
     "shell.execute_reply": "2023-09-08T12:06:54.758472Z"
    },
    "papermill": {
     "duration": 0.064561,
     "end_time": "2023-09-08T12:06:54.762678",
     "exception": false,
     "start_time": "2023-09-08T12:06:54.698117",
     "status": "completed"
    },
    "tags": []
   },
   "outputs": [],
   "source": [
    "titanic_dev[\"Age\"] = imp_median.transform(titanic_dev[\"Age\"].values.reshape(-1,1))\n",
    "\n",
    "titanic_dev[\"Compag\"] = titanic_dev[\"SibSp\"] + titanic_dev[\"Parch\"]\n",
    "\n",
    "titanic_dev[\"Agebin\"] = pd.cut(x = titanic_dev[\"Age\"],\n",
    "                                 bins = [0, 10.01, 20.01, 30.01, 40.01, 50.01, 60.01, 100.0],\n",
    "                                 labels = [\"(0,10]\", \"(10,20]\", \"(20,30]\", \"(30,40]\", \"(40,50]\", \"(50,60]\", \"(60,100)\"])\n",
    "\n",
    "titanic_dev[\"Farebin\"] = pd.cut(x = titanic_dev[\"Fare\"],\n",
    "                                 bins = [-0.01, 25.01, 50.01, 75.01, 100.01, 150.01, 600.0],\n",
    "                                 labels = [\"(0,25]\", \"(25,50]\",\"(50,75]\", \"(75,100]\", \"(100,150]\", \"(150,600)\"])\n",
    "\n",
    "titanic_dev[\"Compagbin\"] = pd.cut(x = titanic_dev[\"Compag\"],\n",
    "                                    bins = [-1, 0, 1, 2, 3, 20],\n",
    "                                    labels = [\"0\", \"1\", \"2\", \"3\", \">3\"])\n",
    "\n",
    "# titanic_dev[\"Pclass\"] = titanic_dev[\"Pclass\"].astype(\"category\")\n",
    "\n",
    "titanic_dev_prepared = titanic_dev.drop([\"Age\", \"SibSp\", \"Parch\", \"Fare\", \"Compag\", \"Embarked\"], axis=1)\n",
    "titanic_dev_encoded = pd.get_dummies(titanic_dev_prepared)"
   ]
  },
  {
   "cell_type": "markdown",
   "id": "2fb0023c",
   "metadata": {
    "papermill": {
     "duration": 0.036027,
     "end_time": "2023-09-08T12:06:54.835113",
     "exception": false,
     "start_time": "2023-09-08T12:06:54.799086",
     "status": "completed"
    },
    "tags": []
   },
   "source": [
    "# Prediction Models"
   ]
  },
  {
   "cell_type": "code",
   "execution_count": 34,
   "id": "874ce1e0",
   "metadata": {
    "execution": {
     "iopub.execute_input": "2023-09-08T12:06:54.910496Z",
     "iopub.status.busy": "2023-09-08T12:06:54.909949Z",
     "iopub.status.idle": "2023-09-08T12:06:54.973358Z",
     "shell.execute_reply": "2023-09-08T12:06:54.971759Z"
    },
    "papermill": {
     "duration": 0.106088,
     "end_time": "2023-09-08T12:06:54.977413",
     "exception": false,
     "start_time": "2023-09-08T12:06:54.871325",
     "status": "completed"
    },
    "tags": []
   },
   "outputs": [
    {
     "data": {
      "text/html": [
       "<style>#sk-container-id-1 {color: black;background-color: white;}#sk-container-id-1 pre{padding: 0;}#sk-container-id-1 div.sk-toggleable {background-color: white;}#sk-container-id-1 label.sk-toggleable__label {cursor: pointer;display: block;width: 100%;margin-bottom: 0;padding: 0.3em;box-sizing: border-box;text-align: center;}#sk-container-id-1 label.sk-toggleable__label-arrow:before {content: \"▸\";float: left;margin-right: 0.25em;color: #696969;}#sk-container-id-1 label.sk-toggleable__label-arrow:hover:before {color: black;}#sk-container-id-1 div.sk-estimator:hover label.sk-toggleable__label-arrow:before {color: black;}#sk-container-id-1 div.sk-toggleable__content {max-height: 0;max-width: 0;overflow: hidden;text-align: left;background-color: #f0f8ff;}#sk-container-id-1 div.sk-toggleable__content pre {margin: 0.2em;color: black;border-radius: 0.25em;background-color: #f0f8ff;}#sk-container-id-1 input.sk-toggleable__control:checked~div.sk-toggleable__content {max-height: 200px;max-width: 100%;overflow: auto;}#sk-container-id-1 input.sk-toggleable__control:checked~label.sk-toggleable__label-arrow:before {content: \"▾\";}#sk-container-id-1 div.sk-estimator input.sk-toggleable__control:checked~label.sk-toggleable__label {background-color: #d4ebff;}#sk-container-id-1 div.sk-label input.sk-toggleable__control:checked~label.sk-toggleable__label {background-color: #d4ebff;}#sk-container-id-1 input.sk-hidden--visually {border: 0;clip: rect(1px 1px 1px 1px);clip: rect(1px, 1px, 1px, 1px);height: 1px;margin: -1px;overflow: hidden;padding: 0;position: absolute;width: 1px;}#sk-container-id-1 div.sk-estimator {font-family: monospace;background-color: #f0f8ff;border: 1px dotted black;border-radius: 0.25em;box-sizing: border-box;margin-bottom: 0.5em;}#sk-container-id-1 div.sk-estimator:hover {background-color: #d4ebff;}#sk-container-id-1 div.sk-parallel-item::after {content: \"\";width: 100%;border-bottom: 1px solid gray;flex-grow: 1;}#sk-container-id-1 div.sk-label:hover label.sk-toggleable__label {background-color: #d4ebff;}#sk-container-id-1 div.sk-serial::before {content: \"\";position: absolute;border-left: 1px solid gray;box-sizing: border-box;top: 0;bottom: 0;left: 50%;z-index: 0;}#sk-container-id-1 div.sk-serial {display: flex;flex-direction: column;align-items: center;background-color: white;padding-right: 0.2em;padding-left: 0.2em;position: relative;}#sk-container-id-1 div.sk-item {position: relative;z-index: 1;}#sk-container-id-1 div.sk-parallel {display: flex;align-items: stretch;justify-content: center;background-color: white;position: relative;}#sk-container-id-1 div.sk-item::before, #sk-container-id-1 div.sk-parallel-item::before {content: \"\";position: absolute;border-left: 1px solid gray;box-sizing: border-box;top: 0;bottom: 0;left: 50%;z-index: -1;}#sk-container-id-1 div.sk-parallel-item {display: flex;flex-direction: column;z-index: 1;position: relative;background-color: white;}#sk-container-id-1 div.sk-parallel-item:first-child::after {align-self: flex-end;width: 50%;}#sk-container-id-1 div.sk-parallel-item:last-child::after {align-self: flex-start;width: 50%;}#sk-container-id-1 div.sk-parallel-item:only-child::after {width: 0;}#sk-container-id-1 div.sk-dashed-wrapped {border: 1px dashed gray;margin: 0 0.4em 0.5em 0.4em;box-sizing: border-box;padding-bottom: 0.4em;background-color: white;}#sk-container-id-1 div.sk-label label {font-family: monospace;font-weight: bold;display: inline-block;line-height: 1.2em;}#sk-container-id-1 div.sk-label-container {text-align: center;}#sk-container-id-1 div.sk-container {/* jupyter's `normalize.less` sets `[hidden] { display: none; }` but bootstrap.min.css set `[hidden] { display: none !important; }` so we also need the `!important` here to be able to override the default hidden behavior on the sphinx rendered scikit-learn.org. See: https://github.com/scikit-learn/scikit-learn/issues/21755 */display: inline-block !important;position: relative;}#sk-container-id-1 div.sk-text-repr-fallback {display: none;}</style><div id=\"sk-container-id-1\" class=\"sk-top-container\"><div class=\"sk-text-repr-fallback\"><pre>LogisticRegression()</pre><b>In a Jupyter environment, please rerun this cell to show the HTML representation or trust the notebook. <br />On GitHub, the HTML representation is unable to render, please try loading this page with nbviewer.org.</b></div><div class=\"sk-container\" hidden><div class=\"sk-item\"><div class=\"sk-estimator sk-toggleable\"><input class=\"sk-toggleable__control sk-hidden--visually\" id=\"sk-estimator-id-1\" type=\"checkbox\" checked><label for=\"sk-estimator-id-1\" class=\"sk-toggleable__label sk-toggleable__label-arrow\">LogisticRegression</label><div class=\"sk-toggleable__content\"><pre>LogisticRegression()</pre></div></div></div></div></div>"
      ],
      "text/plain": [
       "LogisticRegression()"
      ]
     },
     "execution_count": 34,
     "metadata": {},
     "output_type": "execute_result"
    }
   ],
   "source": [
    "from sklearn.linear_model import LogisticRegression\n",
    "\n",
    "log_reg = LogisticRegression()\n",
    "\n",
    "X_train = titanic_train_encoded.iloc[:, 1:]\n",
    "y_train = titanic_train_encoded.iloc[:, 0]\n",
    "\n",
    "X_dev = titanic_dev_encoded.iloc[:, 1:]\n",
    "y_dev = titanic_dev_encoded.iloc[:, 0]\n",
    "\n",
    "log_reg.fit(X_train, y_train)"
   ]
  },
  {
   "cell_type": "code",
   "execution_count": 35,
   "id": "b8b2aafc",
   "metadata": {
    "execution": {
     "iopub.execute_input": "2023-09-08T12:06:55.108131Z",
     "iopub.status.busy": "2023-09-08T12:06:55.107631Z",
     "iopub.status.idle": "2023-09-08T12:06:55.116865Z",
     "shell.execute_reply": "2023-09-08T12:06:55.115181Z"
    },
    "papermill": {
     "duration": 0.058305,
     "end_time": "2023-09-08T12:06:55.119576",
     "exception": false,
     "start_time": "2023-09-08T12:06:55.061271",
     "status": "completed"
    },
    "tags": []
   },
   "outputs": [],
   "source": [
    "y_hat = log_reg.predict(X_dev)"
   ]
  },
  {
   "cell_type": "code",
   "execution_count": 36,
   "id": "20449141",
   "metadata": {
    "execution": {
     "iopub.execute_input": "2023-09-08T12:06:55.199150Z",
     "iopub.status.busy": "2023-09-08T12:06:55.198699Z",
     "iopub.status.idle": "2023-09-08T12:06:55.207029Z",
     "shell.execute_reply": "2023-09-08T12:06:55.205744Z"
    },
    "papermill": {
     "duration": 0.05214,
     "end_time": "2023-09-08T12:06:55.209649",
     "exception": false,
     "start_time": "2023-09-08T12:06:55.157509",
     "status": "completed"
    },
    "tags": []
   },
   "outputs": [
    {
     "name": "stdout",
     "output_type": "stream",
     "text": [
      "[0 0 1 0 1 1 1 0 0 0 0 0 1 0 0 0 0 0 0 1 0 1 0 1 0 1 0 1 1 0 0 1 1 0 1 1 1\n",
      " 0 0 1 0 0 0 1 1 0 0 0 1 1 1 0 0 1 1 0 0 1 1 1 0 1 0 0 1 0 1 0 0 0 1 0 0 1\n",
      " 0 0 0 0 0 0 0 0 0 0 0 0 0 1 0 1 1 0 1 0 0 1 1 0 0 1 0 1 1 1 0 1 0 0 0 0 0\n",
      " 0 1 0 1 0 0 0 0 0 0 1 0 0 0 0 0 0 0 1 0 0 1 0 1 0 1 0 1 1 0 0 1 0 0 1 0 0\n",
      " 1 1 1 0 1 1 0 1 0 0 0 1 1 1 1 1 1 0 0 0 0 1 0 0 0 0 1 0 0 1 0]\n",
      "[0 0 0 0 1 1 1 0 1 0 0 0 1 0 0 0 0 0 0 1 0 1 0 1 0 1 0 0 0 0 0 1 0 0 0 0 0\n",
      " 0 0 1 0 1 0 1 1 0 0 1 1 1 1 1 1 0 0 0 0 0 1 0 1 1 0 0 1 1 1 0 0 0 1 0 1 1\n",
      " 0 0 0 0 0 1 0 0 0 0 1 0 0 1 0 1 0 0 0 0 0 1 1 0 0 0 0 1 1 1 0 0 0 0 0 1 0\n",
      " 0 0 0 1 0 0 0 0 0 0 1 0 1 0 0 0 1 0 0 0 0 1 0 1 0 1 0 1 0 1 0 1 1 0 0 0 0\n",
      " 1 1 0 0 1 1 0 1 0 0 0 1 0 1 1 1 1 1 0 0 1 1 0 0 0 0 1 0 0 1 0]\n"
     ]
    }
   ],
   "source": [
    "# log_reg.score(y_hat, np.array(titanic_dev_encoded.iloc[:, 0]))\n",
    "print(np.array(y_dev))\n",
    "print(y_hat)"
   ]
  },
  {
   "cell_type": "code",
   "execution_count": 37,
   "id": "97a90989",
   "metadata": {
    "execution": {
     "iopub.execute_input": "2023-09-08T12:06:55.291375Z",
     "iopub.status.busy": "2023-09-08T12:06:55.289886Z",
     "iopub.status.idle": "2023-09-08T12:06:55.298710Z",
     "shell.execute_reply": "2023-09-08T12:06:55.297898Z"
    },
    "papermill": {
     "duration": 0.052086,
     "end_time": "2023-09-08T12:06:55.300886",
     "exception": false,
     "start_time": "2023-09-08T12:06:55.248800",
     "status": "completed"
    },
    "tags": []
   },
   "outputs": [
    {
     "data": {
      "text/plain": [
       "0.7877094972067039"
      ]
     },
     "execution_count": 37,
     "metadata": {},
     "output_type": "execute_result"
    }
   ],
   "source": [
    "from sklearn.metrics import accuracy_score\n",
    "\n",
    "accuracy_score(y_hat, y_dev)"
   ]
  },
  {
   "cell_type": "code",
   "execution_count": 38,
   "id": "454ccd75",
   "metadata": {
    "execution": {
     "iopub.execute_input": "2023-09-08T12:06:55.382039Z",
     "iopub.status.busy": "2023-09-08T12:06:55.381260Z",
     "iopub.status.idle": "2023-09-08T12:06:55.388503Z",
     "shell.execute_reply": "2023-09-08T12:06:55.387011Z"
    },
    "papermill": {
     "duration": 0.051215,
     "end_time": "2023-09-08T12:06:55.390970",
     "exception": false,
     "start_time": "2023-09-08T12:06:55.339755",
     "status": "completed"
    },
    "tags": []
   },
   "outputs": [
    {
     "data": {
      "text/plain": [
       "179"
      ]
     },
     "execution_count": 38,
     "metadata": {},
     "output_type": "execute_result"
    }
   ],
   "source": [
    "len(y_dev)"
   ]
  },
  {
   "cell_type": "code",
   "execution_count": 39,
   "id": "aab0f5b1",
   "metadata": {
    "execution": {
     "iopub.execute_input": "2023-09-08T12:06:55.469471Z",
     "iopub.status.busy": "2023-09-08T12:06:55.468648Z",
     "iopub.status.idle": "2023-09-08T12:06:55.475818Z",
     "shell.execute_reply": "2023-09-08T12:06:55.474823Z"
    },
    "papermill": {
     "duration": 0.048346,
     "end_time": "2023-09-08T12:06:55.477974",
     "exception": false,
     "start_time": "2023-09-08T12:06:55.429628",
     "status": "completed"
    },
    "tags": []
   },
   "outputs": [
    {
     "data": {
      "text/plain": [
       "(179, 6)"
      ]
     },
     "execution_count": 39,
     "metadata": {},
     "output_type": "execute_result"
    }
   ],
   "source": [
    "titanic_dev_prepared.shape"
   ]
  },
  {
   "cell_type": "code",
   "execution_count": 40,
   "id": "7932f7d0",
   "metadata": {
    "execution": {
     "iopub.execute_input": "2023-09-08T12:06:55.555457Z",
     "iopub.status.busy": "2023-09-08T12:06:55.555022Z",
     "iopub.status.idle": "2023-09-08T12:06:55.569494Z",
     "shell.execute_reply": "2023-09-08T12:06:55.568331Z"
    },
    "papermill": {
     "duration": 0.056818,
     "end_time": "2023-09-08T12:06:55.571944",
     "exception": false,
     "start_time": "2023-09-08T12:06:55.515126",
     "status": "completed"
    },
    "tags": []
   },
   "outputs": [
    {
     "data": {
      "text/html": [
       "<div>\n",
       "<style scoped>\n",
       "    .dataframe tbody tr th:only-of-type {\n",
       "        vertical-align: middle;\n",
       "    }\n",
       "\n",
       "    .dataframe tbody tr th {\n",
       "        vertical-align: top;\n",
       "    }\n",
       "\n",
       "    .dataframe thead th {\n",
       "        text-align: right;\n",
       "    }\n",
       "</style>\n",
       "<table border=\"1\" class=\"dataframe\">\n",
       "  <thead>\n",
       "    <tr style=\"text-align: right;\">\n",
       "      <th></th>\n",
       "      <th>Survived</th>\n",
       "      <th>Pclass</th>\n",
       "      <th>Sex</th>\n",
       "      <th>Agebin</th>\n",
       "      <th>Farebin</th>\n",
       "      <th>Compagbin</th>\n",
       "    </tr>\n",
       "  </thead>\n",
       "  <tbody>\n",
       "    <tr>\n",
       "      <th>565</th>\n",
       "      <td>0</td>\n",
       "      <td>3</td>\n",
       "      <td>male</td>\n",
       "      <td>(20,30]</td>\n",
       "      <td>(0,25]</td>\n",
       "      <td>2</td>\n",
       "    </tr>\n",
       "    <tr>\n",
       "      <th>160</th>\n",
       "      <td>0</td>\n",
       "      <td>3</td>\n",
       "      <td>male</td>\n",
       "      <td>(40,50]</td>\n",
       "      <td>(0,25]</td>\n",
       "      <td>1</td>\n",
       "    </tr>\n",
       "    <tr>\n",
       "      <th>553</th>\n",
       "      <td>1</td>\n",
       "      <td>3</td>\n",
       "      <td>male</td>\n",
       "      <td>(20,30]</td>\n",
       "      <td>(0,25]</td>\n",
       "      <td>0</td>\n",
       "    </tr>\n",
       "    <tr>\n",
       "      <th>860</th>\n",
       "      <td>0</td>\n",
       "      <td>3</td>\n",
       "      <td>male</td>\n",
       "      <td>(40,50]</td>\n",
       "      <td>(0,25]</td>\n",
       "      <td>2</td>\n",
       "    </tr>\n",
       "    <tr>\n",
       "      <th>241</th>\n",
       "      <td>1</td>\n",
       "      <td>3</td>\n",
       "      <td>female</td>\n",
       "      <td>(20,30]</td>\n",
       "      <td>(0,25]</td>\n",
       "      <td>1</td>\n",
       "    </tr>\n",
       "  </tbody>\n",
       "</table>\n",
       "</div>"
      ],
      "text/plain": [
       "     Survived  Pclass     Sex   Agebin Farebin Compagbin\n",
       "565         0       3    male  (20,30]  (0,25]         2\n",
       "160         0       3    male  (40,50]  (0,25]         1\n",
       "553         1       3    male  (20,30]  (0,25]         0\n",
       "860         0       3    male  (40,50]  (0,25]         2\n",
       "241         1       3  female  (20,30]  (0,25]         1"
      ]
     },
     "execution_count": 40,
     "metadata": {},
     "output_type": "execute_result"
    }
   ],
   "source": [
    "titanic_dev_prepared.head()"
   ]
  },
  {
   "cell_type": "code",
   "execution_count": 41,
   "id": "f6af303b",
   "metadata": {
    "execution": {
     "iopub.execute_input": "2023-09-08T12:06:55.650852Z",
     "iopub.status.busy": "2023-09-08T12:06:55.650176Z",
     "iopub.status.idle": "2023-09-08T12:06:55.674259Z",
     "shell.execute_reply": "2023-09-08T12:06:55.673122Z"
    },
    "papermill": {
     "duration": 0.067171,
     "end_time": "2023-09-08T12:06:55.676866",
     "exception": false,
     "start_time": "2023-09-08T12:06:55.609695",
     "status": "completed"
    },
    "tags": []
   },
   "outputs": [
    {
     "data": {
      "text/html": [
       "<div>\n",
       "<style scoped>\n",
       "    .dataframe tbody tr th:only-of-type {\n",
       "        vertical-align: middle;\n",
       "    }\n",
       "\n",
       "    .dataframe tbody tr th {\n",
       "        vertical-align: top;\n",
       "    }\n",
       "\n",
       "    .dataframe thead th {\n",
       "        text-align: right;\n",
       "    }\n",
       "</style>\n",
       "<table border=\"1\" class=\"dataframe\">\n",
       "  <thead>\n",
       "    <tr style=\"text-align: right;\">\n",
       "      <th></th>\n",
       "      <th>Survived</th>\n",
       "      <th>Pclass</th>\n",
       "      <th>Sex_female</th>\n",
       "      <th>Sex_male</th>\n",
       "      <th>Agebin_(0,10]</th>\n",
       "      <th>Agebin_(10,20]</th>\n",
       "      <th>Agebin_(20,30]</th>\n",
       "      <th>Agebin_(30,40]</th>\n",
       "      <th>Agebin_(40,50]</th>\n",
       "      <th>Agebin_(50,60]</th>\n",
       "      <th>...</th>\n",
       "      <th>Farebin_(25,50]</th>\n",
       "      <th>Farebin_(50,75]</th>\n",
       "      <th>Farebin_(75,100]</th>\n",
       "      <th>Farebin_(100,150]</th>\n",
       "      <th>Farebin_(150,600)</th>\n",
       "      <th>Compagbin_0</th>\n",
       "      <th>Compagbin_1</th>\n",
       "      <th>Compagbin_2</th>\n",
       "      <th>Compagbin_3</th>\n",
       "      <th>Compagbin_&gt;3</th>\n",
       "    </tr>\n",
       "  </thead>\n",
       "  <tbody>\n",
       "    <tr>\n",
       "      <th>565</th>\n",
       "      <td>0</td>\n",
       "      <td>3</td>\n",
       "      <td>False</td>\n",
       "      <td>True</td>\n",
       "      <td>False</td>\n",
       "      <td>False</td>\n",
       "      <td>True</td>\n",
       "      <td>False</td>\n",
       "      <td>False</td>\n",
       "      <td>False</td>\n",
       "      <td>...</td>\n",
       "      <td>False</td>\n",
       "      <td>False</td>\n",
       "      <td>False</td>\n",
       "      <td>False</td>\n",
       "      <td>False</td>\n",
       "      <td>False</td>\n",
       "      <td>False</td>\n",
       "      <td>True</td>\n",
       "      <td>False</td>\n",
       "      <td>False</td>\n",
       "    </tr>\n",
       "    <tr>\n",
       "      <th>160</th>\n",
       "      <td>0</td>\n",
       "      <td>3</td>\n",
       "      <td>False</td>\n",
       "      <td>True</td>\n",
       "      <td>False</td>\n",
       "      <td>False</td>\n",
       "      <td>False</td>\n",
       "      <td>False</td>\n",
       "      <td>True</td>\n",
       "      <td>False</td>\n",
       "      <td>...</td>\n",
       "      <td>False</td>\n",
       "      <td>False</td>\n",
       "      <td>False</td>\n",
       "      <td>False</td>\n",
       "      <td>False</td>\n",
       "      <td>False</td>\n",
       "      <td>True</td>\n",
       "      <td>False</td>\n",
       "      <td>False</td>\n",
       "      <td>False</td>\n",
       "    </tr>\n",
       "    <tr>\n",
       "      <th>553</th>\n",
       "      <td>1</td>\n",
       "      <td>3</td>\n",
       "      <td>False</td>\n",
       "      <td>True</td>\n",
       "      <td>False</td>\n",
       "      <td>False</td>\n",
       "      <td>True</td>\n",
       "      <td>False</td>\n",
       "      <td>False</td>\n",
       "      <td>False</td>\n",
       "      <td>...</td>\n",
       "      <td>False</td>\n",
       "      <td>False</td>\n",
       "      <td>False</td>\n",
       "      <td>False</td>\n",
       "      <td>False</td>\n",
       "      <td>True</td>\n",
       "      <td>False</td>\n",
       "      <td>False</td>\n",
       "      <td>False</td>\n",
       "      <td>False</td>\n",
       "    </tr>\n",
       "    <tr>\n",
       "      <th>860</th>\n",
       "      <td>0</td>\n",
       "      <td>3</td>\n",
       "      <td>False</td>\n",
       "      <td>True</td>\n",
       "      <td>False</td>\n",
       "      <td>False</td>\n",
       "      <td>False</td>\n",
       "      <td>False</td>\n",
       "      <td>True</td>\n",
       "      <td>False</td>\n",
       "      <td>...</td>\n",
       "      <td>False</td>\n",
       "      <td>False</td>\n",
       "      <td>False</td>\n",
       "      <td>False</td>\n",
       "      <td>False</td>\n",
       "      <td>False</td>\n",
       "      <td>False</td>\n",
       "      <td>True</td>\n",
       "      <td>False</td>\n",
       "      <td>False</td>\n",
       "    </tr>\n",
       "    <tr>\n",
       "      <th>241</th>\n",
       "      <td>1</td>\n",
       "      <td>3</td>\n",
       "      <td>True</td>\n",
       "      <td>False</td>\n",
       "      <td>False</td>\n",
       "      <td>False</td>\n",
       "      <td>True</td>\n",
       "      <td>False</td>\n",
       "      <td>False</td>\n",
       "      <td>False</td>\n",
       "      <td>...</td>\n",
       "      <td>False</td>\n",
       "      <td>False</td>\n",
       "      <td>False</td>\n",
       "      <td>False</td>\n",
       "      <td>False</td>\n",
       "      <td>False</td>\n",
       "      <td>True</td>\n",
       "      <td>False</td>\n",
       "      <td>False</td>\n",
       "      <td>False</td>\n",
       "    </tr>\n",
       "  </tbody>\n",
       "</table>\n",
       "<p>5 rows × 22 columns</p>\n",
       "</div>"
      ],
      "text/plain": [
       "     Survived  Pclass  Sex_female  Sex_male  Agebin_(0,10]  Agebin_(10,20]  \\\n",
       "565         0       3       False      True          False           False   \n",
       "160         0       3       False      True          False           False   \n",
       "553         1       3       False      True          False           False   \n",
       "860         0       3       False      True          False           False   \n",
       "241         1       3        True     False          False           False   \n",
       "\n",
       "     Agebin_(20,30]  Agebin_(30,40]  Agebin_(40,50]  Agebin_(50,60]  ...  \\\n",
       "565            True           False           False           False  ...   \n",
       "160           False           False            True           False  ...   \n",
       "553            True           False           False           False  ...   \n",
       "860           False           False            True           False  ...   \n",
       "241            True           False           False           False  ...   \n",
       "\n",
       "     Farebin_(25,50]  Farebin_(50,75]  Farebin_(75,100]  Farebin_(100,150]  \\\n",
       "565            False            False             False              False   \n",
       "160            False            False             False              False   \n",
       "553            False            False             False              False   \n",
       "860            False            False             False              False   \n",
       "241            False            False             False              False   \n",
       "\n",
       "     Farebin_(150,600)  Compagbin_0  Compagbin_1  Compagbin_2  Compagbin_3  \\\n",
       "565              False        False        False         True        False   \n",
       "160              False        False         True        False        False   \n",
       "553              False         True        False        False        False   \n",
       "860              False        False        False         True        False   \n",
       "241              False        False         True        False        False   \n",
       "\n",
       "     Compagbin_>3  \n",
       "565         False  \n",
       "160         False  \n",
       "553         False  \n",
       "860         False  \n",
       "241         False  \n",
       "\n",
       "[5 rows x 22 columns]"
      ]
     },
     "execution_count": 41,
     "metadata": {},
     "output_type": "execute_result"
    }
   ],
   "source": [
    "titanic_dev_encoded.head()"
   ]
  },
  {
   "cell_type": "code",
   "execution_count": 42,
   "id": "73f3ae33",
   "metadata": {
    "execution": {
     "iopub.execute_input": "2023-09-08T12:06:55.756200Z",
     "iopub.status.busy": "2023-09-08T12:06:55.755779Z",
     "iopub.status.idle": "2023-09-08T12:06:55.771448Z",
     "shell.execute_reply": "2023-09-08T12:06:55.769650Z"
    },
    "papermill": {
     "duration": 0.058181,
     "end_time": "2023-09-08T12:06:55.773876",
     "exception": false,
     "start_time": "2023-09-08T12:06:55.715695",
     "status": "completed"
    },
    "tags": []
   },
   "outputs": [
    {
     "name": "stdout",
     "output_type": "stream",
     "text": [
      "<class 'pandas.core.frame.DataFrame'>\n",
      "Index: 179 entries, 565 to 637\n",
      "Data columns (total 22 columns):\n",
      " #   Column             Non-Null Count  Dtype\n",
      "---  ------             --------------  -----\n",
      " 0   Survived           179 non-null    int64\n",
      " 1   Pclass             179 non-null    int64\n",
      " 2   Sex_female         179 non-null    bool \n",
      " 3   Sex_male           179 non-null    bool \n",
      " 4   Agebin_(0,10]      179 non-null    bool \n",
      " 5   Agebin_(10,20]     179 non-null    bool \n",
      " 6   Agebin_(20,30]     179 non-null    bool \n",
      " 7   Agebin_(30,40]     179 non-null    bool \n",
      " 8   Agebin_(40,50]     179 non-null    bool \n",
      " 9   Agebin_(50,60]     179 non-null    bool \n",
      " 10  Agebin_(60,100)    179 non-null    bool \n",
      " 11  Farebin_(0,25]     179 non-null    bool \n",
      " 12  Farebin_(25,50]    179 non-null    bool \n",
      " 13  Farebin_(50,75]    179 non-null    bool \n",
      " 14  Farebin_(75,100]   179 non-null    bool \n",
      " 15  Farebin_(100,150]  179 non-null    bool \n",
      " 16  Farebin_(150,600)  179 non-null    bool \n",
      " 17  Compagbin_0        179 non-null    bool \n",
      " 18  Compagbin_1        179 non-null    bool \n",
      " 19  Compagbin_2        179 non-null    bool \n",
      " 20  Compagbin_3        179 non-null    bool \n",
      " 21  Compagbin_>3       179 non-null    bool \n",
      "dtypes: bool(20), int64(2)\n",
      "memory usage: 7.7 KB\n"
     ]
    }
   ],
   "source": [
    "titanic_dev_encoded.info()"
   ]
  },
  {
   "cell_type": "code",
   "execution_count": 43,
   "id": "83025864",
   "metadata": {
    "execution": {
     "iopub.execute_input": "2023-09-08T12:06:55.853831Z",
     "iopub.status.busy": "2023-09-08T12:06:55.853135Z",
     "iopub.status.idle": "2023-09-08T12:06:56.293134Z",
     "shell.execute_reply": "2023-09-08T12:06:56.291832Z"
    },
    "papermill": {
     "duration": 0.483475,
     "end_time": "2023-09-08T12:06:56.295641",
     "exception": false,
     "start_time": "2023-09-08T12:06:55.812166",
     "status": "completed"
    },
    "tags": []
   },
   "outputs": [
    {
     "data": {
      "text/plain": [
       "0.8212290502793296"
      ]
     },
     "execution_count": 43,
     "metadata": {},
     "output_type": "execute_result"
    }
   ],
   "source": [
    "from sklearn.ensemble import RandomForestClassifier\n",
    "\n",
    "rf = RandomForestClassifier(max_depth=5, random_state=42)\n",
    "rf.fit(X_train, y_train)\n",
    "y_hat = rf.predict(X_dev)\n",
    "\n",
    "accuracy_score(y_hat, y_dev)"
   ]
  },
  {
   "cell_type": "markdown",
   "id": "a2ae0e08",
   "metadata": {
    "papermill": {
     "duration": 0.039463,
     "end_time": "2023-09-08T12:06:56.376729",
     "exception": false,
     "start_time": "2023-09-08T12:06:56.337266",
     "status": "completed"
    },
    "tags": []
   },
   "source": [
    "# Transforming Test Data"
   ]
  },
  {
   "cell_type": "code",
   "execution_count": 44,
   "id": "860a9289",
   "metadata": {
    "execution": {
     "iopub.execute_input": "2023-09-08T12:06:56.459669Z",
     "iopub.status.busy": "2023-09-08T12:06:56.459206Z",
     "iopub.status.idle": "2023-09-08T12:06:56.483841Z",
     "shell.execute_reply": "2023-09-08T12:06:56.482685Z"
    },
    "papermill": {
     "duration": 0.068947,
     "end_time": "2023-09-08T12:06:56.486782",
     "exception": false,
     "start_time": "2023-09-08T12:06:56.417835",
     "status": "completed"
    },
    "tags": []
   },
   "outputs": [],
   "source": [
    "titanic_test[\"Age\"] = imp_median.transform(titanic_test[\"Age\"].values.reshape(-1,1))\n",
    "\n",
    "titanic_test[\"Compag\"] = titanic_test[\"SibSp\"] + titanic_test[\"Parch\"]\n",
    "\n",
    "titanic_test[\"Agebin\"] = pd.cut(x = titanic_test[\"Age\"],\n",
    "                                 bins = [0, 10.01, 20.01, 30.01, 40.01, 50.01, 60.01, 100.0],\n",
    "                                 labels = [\"(0,10]\", \"(10,20]\", \"(20,30]\", \"(30,40]\", \"(40,50]\", \"(50,60]\", \"(60,100)\"])\n",
    "\n",
    "titanic_test[\"Farebin\"] = pd.cut(x = titanic_test[\"Fare\"],\n",
    "                                 bins = [-0.01, 25.01, 50.01, 75.01, 100.01, 150.01, 600.0],\n",
    "                                 labels = [\"(0,25]\", \"(25,50]\",\"(50,75]\", \"(75,100]\", \"(100,150]\", \"(150,600)\"])\n",
    "\n",
    "titanic_test[\"Compagbin\"] = pd.cut(x = titanic_test[\"Compag\"],\n",
    "                                    bins = [-1, 0, 1, 2, 3, 20],\n",
    "                                    labels = [\"0\", \"1\", \"2\", \"3\", \">3\"])\n",
    "\n",
    "# titanic_train[\"Pclass\"] = titanic_train[\"Pclass\"].astype(\"category\")\n",
    "\n",
    "passID = titanic_test[\"PassengerId\"]\n",
    "\n",
    "titanic_test_prepared = titanic_test.drop([\"PassengerId\", \"Name\", \"Ticket\", \"Cabin\", \"Age\", \"SibSp\", \"Parch\", \"Fare\", \"Compag\", \"Embarked\"], axis=1)\n",
    "titanic_test_encoded = pd.get_dummies(titanic_test_prepared)"
   ]
  },
  {
   "cell_type": "code",
   "execution_count": 45,
   "id": "c8ebc5e6",
   "metadata": {
    "execution": {
     "iopub.execute_input": "2023-09-08T12:06:56.569678Z",
     "iopub.status.busy": "2023-09-08T12:06:56.569271Z",
     "iopub.status.idle": "2023-09-08T12:06:56.596611Z",
     "shell.execute_reply": "2023-09-08T12:06:56.595190Z"
    },
    "papermill": {
     "duration": 0.071756,
     "end_time": "2023-09-08T12:06:56.599443",
     "exception": false,
     "start_time": "2023-09-08T12:06:56.527687",
     "status": "completed"
    },
    "tags": []
   },
   "outputs": [
    {
     "data": {
      "text/html": [
       "<div>\n",
       "<style scoped>\n",
       "    .dataframe tbody tr th:only-of-type {\n",
       "        vertical-align: middle;\n",
       "    }\n",
       "\n",
       "    .dataframe tbody tr th {\n",
       "        vertical-align: top;\n",
       "    }\n",
       "\n",
       "    .dataframe thead th {\n",
       "        text-align: right;\n",
       "    }\n",
       "</style>\n",
       "<table border=\"1\" class=\"dataframe\">\n",
       "  <thead>\n",
       "    <tr style=\"text-align: right;\">\n",
       "      <th></th>\n",
       "      <th>Pclass</th>\n",
       "      <th>Sex_female</th>\n",
       "      <th>Sex_male</th>\n",
       "      <th>Agebin_(0,10]</th>\n",
       "      <th>Agebin_(10,20]</th>\n",
       "      <th>Agebin_(20,30]</th>\n",
       "      <th>Agebin_(30,40]</th>\n",
       "      <th>Agebin_(40,50]</th>\n",
       "      <th>Agebin_(50,60]</th>\n",
       "      <th>Agebin_(60,100)</th>\n",
       "      <th>...</th>\n",
       "      <th>Farebin_(25,50]</th>\n",
       "      <th>Farebin_(50,75]</th>\n",
       "      <th>Farebin_(75,100]</th>\n",
       "      <th>Farebin_(100,150]</th>\n",
       "      <th>Farebin_(150,600)</th>\n",
       "      <th>Compagbin_0</th>\n",
       "      <th>Compagbin_1</th>\n",
       "      <th>Compagbin_2</th>\n",
       "      <th>Compagbin_3</th>\n",
       "      <th>Compagbin_&gt;3</th>\n",
       "    </tr>\n",
       "  </thead>\n",
       "  <tbody>\n",
       "    <tr>\n",
       "      <th>0</th>\n",
       "      <td>3</td>\n",
       "      <td>False</td>\n",
       "      <td>True</td>\n",
       "      <td>False</td>\n",
       "      <td>False</td>\n",
       "      <td>False</td>\n",
       "      <td>True</td>\n",
       "      <td>False</td>\n",
       "      <td>False</td>\n",
       "      <td>False</td>\n",
       "      <td>...</td>\n",
       "      <td>False</td>\n",
       "      <td>False</td>\n",
       "      <td>False</td>\n",
       "      <td>False</td>\n",
       "      <td>False</td>\n",
       "      <td>True</td>\n",
       "      <td>False</td>\n",
       "      <td>False</td>\n",
       "      <td>False</td>\n",
       "      <td>False</td>\n",
       "    </tr>\n",
       "    <tr>\n",
       "      <th>1</th>\n",
       "      <td>3</td>\n",
       "      <td>True</td>\n",
       "      <td>False</td>\n",
       "      <td>False</td>\n",
       "      <td>False</td>\n",
       "      <td>False</td>\n",
       "      <td>False</td>\n",
       "      <td>True</td>\n",
       "      <td>False</td>\n",
       "      <td>False</td>\n",
       "      <td>...</td>\n",
       "      <td>False</td>\n",
       "      <td>False</td>\n",
       "      <td>False</td>\n",
       "      <td>False</td>\n",
       "      <td>False</td>\n",
       "      <td>False</td>\n",
       "      <td>True</td>\n",
       "      <td>False</td>\n",
       "      <td>False</td>\n",
       "      <td>False</td>\n",
       "    </tr>\n",
       "    <tr>\n",
       "      <th>2</th>\n",
       "      <td>2</td>\n",
       "      <td>False</td>\n",
       "      <td>True</td>\n",
       "      <td>False</td>\n",
       "      <td>False</td>\n",
       "      <td>False</td>\n",
       "      <td>False</td>\n",
       "      <td>False</td>\n",
       "      <td>False</td>\n",
       "      <td>True</td>\n",
       "      <td>...</td>\n",
       "      <td>False</td>\n",
       "      <td>False</td>\n",
       "      <td>False</td>\n",
       "      <td>False</td>\n",
       "      <td>False</td>\n",
       "      <td>True</td>\n",
       "      <td>False</td>\n",
       "      <td>False</td>\n",
       "      <td>False</td>\n",
       "      <td>False</td>\n",
       "    </tr>\n",
       "    <tr>\n",
       "      <th>3</th>\n",
       "      <td>3</td>\n",
       "      <td>False</td>\n",
       "      <td>True</td>\n",
       "      <td>False</td>\n",
       "      <td>False</td>\n",
       "      <td>True</td>\n",
       "      <td>False</td>\n",
       "      <td>False</td>\n",
       "      <td>False</td>\n",
       "      <td>False</td>\n",
       "      <td>...</td>\n",
       "      <td>False</td>\n",
       "      <td>False</td>\n",
       "      <td>False</td>\n",
       "      <td>False</td>\n",
       "      <td>False</td>\n",
       "      <td>True</td>\n",
       "      <td>False</td>\n",
       "      <td>False</td>\n",
       "      <td>False</td>\n",
       "      <td>False</td>\n",
       "    </tr>\n",
       "    <tr>\n",
       "      <th>4</th>\n",
       "      <td>3</td>\n",
       "      <td>True</td>\n",
       "      <td>False</td>\n",
       "      <td>False</td>\n",
       "      <td>False</td>\n",
       "      <td>True</td>\n",
       "      <td>False</td>\n",
       "      <td>False</td>\n",
       "      <td>False</td>\n",
       "      <td>False</td>\n",
       "      <td>...</td>\n",
       "      <td>False</td>\n",
       "      <td>False</td>\n",
       "      <td>False</td>\n",
       "      <td>False</td>\n",
       "      <td>False</td>\n",
       "      <td>False</td>\n",
       "      <td>False</td>\n",
       "      <td>True</td>\n",
       "      <td>False</td>\n",
       "      <td>False</td>\n",
       "    </tr>\n",
       "  </tbody>\n",
       "</table>\n",
       "<p>5 rows × 21 columns</p>\n",
       "</div>"
      ],
      "text/plain": [
       "   Pclass  Sex_female  Sex_male  Agebin_(0,10]  Agebin_(10,20]  \\\n",
       "0       3       False      True          False           False   \n",
       "1       3        True     False          False           False   \n",
       "2       2       False      True          False           False   \n",
       "3       3       False      True          False           False   \n",
       "4       3        True     False          False           False   \n",
       "\n",
       "   Agebin_(20,30]  Agebin_(30,40]  Agebin_(40,50]  Agebin_(50,60]  \\\n",
       "0           False            True           False           False   \n",
       "1           False           False            True           False   \n",
       "2           False           False           False           False   \n",
       "3            True           False           False           False   \n",
       "4            True           False           False           False   \n",
       "\n",
       "   Agebin_(60,100)  ...  Farebin_(25,50]  Farebin_(50,75]  Farebin_(75,100]  \\\n",
       "0            False  ...            False            False             False   \n",
       "1            False  ...            False            False             False   \n",
       "2             True  ...            False            False             False   \n",
       "3            False  ...            False            False             False   \n",
       "4            False  ...            False            False             False   \n",
       "\n",
       "   Farebin_(100,150]  Farebin_(150,600)  Compagbin_0  Compagbin_1  \\\n",
       "0              False              False         True        False   \n",
       "1              False              False        False         True   \n",
       "2              False              False         True        False   \n",
       "3              False              False         True        False   \n",
       "4              False              False        False        False   \n",
       "\n",
       "   Compagbin_2  Compagbin_3  Compagbin_>3  \n",
       "0        False        False         False  \n",
       "1        False        False         False  \n",
       "2        False        False         False  \n",
       "3        False        False         False  \n",
       "4         True        False         False  \n",
       "\n",
       "[5 rows x 21 columns]"
      ]
     },
     "execution_count": 45,
     "metadata": {},
     "output_type": "execute_result"
    }
   ],
   "source": [
    "titanic_test_encoded.head()"
   ]
  },
  {
   "cell_type": "code",
   "execution_count": 46,
   "id": "9ad2fd39",
   "metadata": {
    "execution": {
     "iopub.execute_input": "2023-09-08T12:06:56.684181Z",
     "iopub.status.busy": "2023-09-08T12:06:56.682666Z",
     "iopub.status.idle": "2023-09-08T12:06:56.692870Z",
     "shell.execute_reply": "2023-09-08T12:06:56.691597Z"
    },
    "papermill": {
     "duration": 0.055307,
     "end_time": "2023-09-08T12:06:56.695195",
     "exception": false,
     "start_time": "2023-09-08T12:06:56.639888",
     "status": "completed"
    },
    "tags": []
   },
   "outputs": [
    {
     "data": {
      "text/plain": [
       "0       892\n",
       "1       893\n",
       "2       894\n",
       "3       895\n",
       "4       896\n",
       "       ... \n",
       "413    1305\n",
       "414    1306\n",
       "415    1307\n",
       "416    1308\n",
       "417    1309\n",
       "Name: PassengerId, Length: 418, dtype: int64"
      ]
     },
     "execution_count": 46,
     "metadata": {},
     "output_type": "execute_result"
    }
   ],
   "source": [
    "passID"
   ]
  },
  {
   "cell_type": "code",
   "execution_count": 47,
   "id": "049432d8",
   "metadata": {
    "execution": {
     "iopub.execute_input": "2023-09-08T12:06:56.777851Z",
     "iopub.status.busy": "2023-09-08T12:06:56.777433Z",
     "iopub.status.idle": "2023-09-08T12:06:56.784554Z",
     "shell.execute_reply": "2023-09-08T12:06:56.783519Z"
    },
    "papermill": {
     "duration": 0.05194,
     "end_time": "2023-09-08T12:06:56.787539",
     "exception": false,
     "start_time": "2023-09-08T12:06:56.735599",
     "status": "completed"
    },
    "tags": []
   },
   "outputs": [
    {
     "data": {
      "text/plain": [
       "(418, 21)"
      ]
     },
     "execution_count": 47,
     "metadata": {},
     "output_type": "execute_result"
    }
   ],
   "source": [
    "titanic_test_encoded.shape"
   ]
  },
  {
   "cell_type": "code",
   "execution_count": 48,
   "id": "da3eae57",
   "metadata": {
    "execution": {
     "iopub.execute_input": "2023-09-08T12:06:56.871385Z",
     "iopub.status.busy": "2023-09-08T12:06:56.870948Z",
     "iopub.status.idle": "2023-09-08T12:06:56.892223Z",
     "shell.execute_reply": "2023-09-08T12:06:56.890979Z"
    },
    "papermill": {
     "duration": 0.066455,
     "end_time": "2023-09-08T12:06:56.895047",
     "exception": false,
     "start_time": "2023-09-08T12:06:56.828592",
     "status": "completed"
    },
    "tags": []
   },
   "outputs": [],
   "source": [
    "y_pred = rf.predict(titanic_test_encoded)"
   ]
  },
  {
   "cell_type": "code",
   "execution_count": 49,
   "id": "d96402b8",
   "metadata": {
    "execution": {
     "iopub.execute_input": "2023-09-08T12:06:56.978052Z",
     "iopub.status.busy": "2023-09-08T12:06:56.977572Z",
     "iopub.status.idle": "2023-09-08T12:06:56.985929Z",
     "shell.execute_reply": "2023-09-08T12:06:56.985098Z"
    },
    "papermill": {
     "duration": 0.053576,
     "end_time": "2023-09-08T12:06:56.988064",
     "exception": false,
     "start_time": "2023-09-08T12:06:56.934488",
     "status": "completed"
    },
    "tags": []
   },
   "outputs": [
    {
     "data": {
      "text/plain": [
       "array([0, 0, 0, 0, 1, 0, 1, 0, 1, 0, 0, 0, 1, 0, 1, 1, 0, 0, 1, 1, 0, 1,\n",
       "       1, 0, 1, 0, 1, 0, 0, 0, 0, 0, 1, 1, 0, 0, 1, 1, 0, 0, 0, 0, 0, 1,\n",
       "       1, 0, 0, 0, 1, 1, 0, 0, 1, 1, 0, 0, 0, 0, 0, 1, 0, 0, 0, 1, 0, 1,\n",
       "       1, 0, 0, 1, 1, 0, 1, 0, 1, 0, 0, 1, 0, 1, 1, 0, 0, 0, 0, 0, 1, 1,\n",
       "       1, 1, 1, 0, 1, 0, 0, 0, 1, 0, 1, 0, 1, 0, 0, 0, 1, 0, 0, 0, 0, 0,\n",
       "       0, 1, 1, 1, 1, 0, 0, 1, 0, 1, 1, 0, 1, 0, 0, 1, 0, 1, 0, 0, 0, 0,\n",
       "       0, 0, 0, 0, 0, 0, 1, 0, 0, 1, 0, 0, 0, 0, 0, 0, 0, 0, 1, 0, 0, 1,\n",
       "       0, 0, 1, 1, 0, 1, 1, 1, 1, 0, 0, 1, 0, 0, 1, 1, 0, 0, 0, 0, 0, 1,\n",
       "       1, 0, 1, 1, 0, 0, 1, 0, 1, 0, 1, 0, 0, 0, 0, 0, 0, 0, 1, 0, 1, 1,\n",
       "       0, 1, 1, 1, 0, 1, 0, 0, 1, 0, 1, 0, 0, 0, 0, 1, 0, 0, 1, 0, 1, 0,\n",
       "       1, 0, 1, 0, 1, 1, 0, 1, 0, 0, 0, 1, 0, 0, 0, 0, 0, 0, 1, 1, 1, 1,\n",
       "       1, 0, 0, 0, 1, 0, 1, 1, 1, 0, 0, 0, 0, 0, 0, 0, 1, 0, 0, 0, 1, 1,\n",
       "       0, 0, 0, 0, 1, 0, 0, 0, 1, 1, 0, 1, 0, 0, 0, 0, 1, 1, 1, 1, 1, 0,\n",
       "       0, 0, 0, 0, 0, 1, 0, 0, 0, 0, 1, 0, 0, 0, 0, 0, 0, 0, 1, 1, 0, 1,\n",
       "       0, 0, 0, 0, 0, 1, 1, 1, 0, 0, 0, 0, 0, 0, 0, 0, 1, 0, 1, 0, 0, 0,\n",
       "       1, 0, 0, 1, 0, 0, 0, 0, 0, 0, 0, 0, 0, 1, 0, 1, 0, 1, 0, 1, 1, 0,\n",
       "       0, 0, 1, 0, 1, 0, 0, 1, 0, 1, 1, 0, 1, 0, 0, 1, 1, 0, 0, 1, 0, 0,\n",
       "       1, 1, 1, 0, 0, 0, 0, 0, 1, 1, 0, 1, 0, 0, 0, 0, 0, 1, 0, 0, 0, 1,\n",
       "       0, 1, 0, 0, 1, 0, 1, 0, 0, 0, 0, 0, 1, 1, 1, 1, 1, 0, 1, 0, 0, 0])"
      ]
     },
     "execution_count": 49,
     "metadata": {},
     "output_type": "execute_result"
    }
   ],
   "source": [
    "y_pred"
   ]
  },
  {
   "cell_type": "code",
   "execution_count": 50,
   "id": "11621c2a",
   "metadata": {
    "execution": {
     "iopub.execute_input": "2023-09-08T12:06:57.070739Z",
     "iopub.status.busy": "2023-09-08T12:06:57.069870Z",
     "iopub.status.idle": "2023-09-08T12:06:57.084697Z",
     "shell.execute_reply": "2023-09-08T12:06:57.083461Z"
    },
    "papermill": {
     "duration": 0.058631,
     "end_time": "2023-09-08T12:06:57.086984",
     "exception": false,
     "start_time": "2023-09-08T12:06:57.028353",
     "status": "completed"
    },
    "tags": []
   },
   "outputs": [
    {
     "data": {
      "text/html": [
       "<div>\n",
       "<style scoped>\n",
       "    .dataframe tbody tr th:only-of-type {\n",
       "        vertical-align: middle;\n",
       "    }\n",
       "\n",
       "    .dataframe tbody tr th {\n",
       "        vertical-align: top;\n",
       "    }\n",
       "\n",
       "    .dataframe thead th {\n",
       "        text-align: right;\n",
       "    }\n",
       "</style>\n",
       "<table border=\"1\" class=\"dataframe\">\n",
       "  <thead>\n",
       "    <tr style=\"text-align: right;\">\n",
       "      <th></th>\n",
       "      <th>PassengerId</th>\n",
       "      <th>Survived</th>\n",
       "    </tr>\n",
       "  </thead>\n",
       "  <tbody>\n",
       "    <tr>\n",
       "      <th>0</th>\n",
       "      <td>892</td>\n",
       "      <td>0</td>\n",
       "    </tr>\n",
       "    <tr>\n",
       "      <th>1</th>\n",
       "      <td>893</td>\n",
       "      <td>0</td>\n",
       "    </tr>\n",
       "    <tr>\n",
       "      <th>2</th>\n",
       "      <td>894</td>\n",
       "      <td>0</td>\n",
       "    </tr>\n",
       "    <tr>\n",
       "      <th>3</th>\n",
       "      <td>895</td>\n",
       "      <td>0</td>\n",
       "    </tr>\n",
       "    <tr>\n",
       "      <th>4</th>\n",
       "      <td>896</td>\n",
       "      <td>1</td>\n",
       "    </tr>\n",
       "    <tr>\n",
       "      <th>...</th>\n",
       "      <td>...</td>\n",
       "      <td>...</td>\n",
       "    </tr>\n",
       "    <tr>\n",
       "      <th>413</th>\n",
       "      <td>1305</td>\n",
       "      <td>0</td>\n",
       "    </tr>\n",
       "    <tr>\n",
       "      <th>414</th>\n",
       "      <td>1306</td>\n",
       "      <td>1</td>\n",
       "    </tr>\n",
       "    <tr>\n",
       "      <th>415</th>\n",
       "      <td>1307</td>\n",
       "      <td>0</td>\n",
       "    </tr>\n",
       "    <tr>\n",
       "      <th>416</th>\n",
       "      <td>1308</td>\n",
       "      <td>0</td>\n",
       "    </tr>\n",
       "    <tr>\n",
       "      <th>417</th>\n",
       "      <td>1309</td>\n",
       "      <td>0</td>\n",
       "    </tr>\n",
       "  </tbody>\n",
       "</table>\n",
       "<p>418 rows × 2 columns</p>\n",
       "</div>"
      ],
      "text/plain": [
       "     PassengerId  Survived\n",
       "0            892         0\n",
       "1            893         0\n",
       "2            894         0\n",
       "3            895         0\n",
       "4            896         1\n",
       "..           ...       ...\n",
       "413         1305         0\n",
       "414         1306         1\n",
       "415         1307         0\n",
       "416         1308         0\n",
       "417         1309         0\n",
       "\n",
       "[418 rows x 2 columns]"
      ]
     },
     "execution_count": 50,
     "metadata": {},
     "output_type": "execute_result"
    }
   ],
   "source": [
    "output = pd.DataFrame({'PassengerId': passID, 'Survived': y_pred})\n",
    "output"
   ]
  },
  {
   "cell_type": "code",
   "execution_count": 51,
   "id": "7564ef28",
   "metadata": {
    "execution": {
     "iopub.execute_input": "2023-09-08T12:06:57.170181Z",
     "iopub.status.busy": "2023-09-08T12:06:57.169327Z",
     "iopub.status.idle": "2023-09-08T12:06:57.180464Z",
     "shell.execute_reply": "2023-09-08T12:06:57.178886Z"
    },
    "papermill": {
     "duration": 0.055752,
     "end_time": "2023-09-08T12:06:57.183061",
     "exception": false,
     "start_time": "2023-09-08T12:06:57.127309",
     "status": "completed"
    },
    "tags": []
   },
   "outputs": [
    {
     "name": "stdout",
     "output_type": "stream",
     "text": [
      "Your submission was successfully saved!\n"
     ]
    }
   ],
   "source": [
    "output.to_csv('submission.csv', index=False)\n",
    "print(\"Your submission was successfully saved!\")"
   ]
  },
  {
   "cell_type": "code",
   "execution_count": null,
   "id": "d8633ff5",
   "metadata": {
    "papermill": {
     "duration": 0.041196,
     "end_time": "2023-09-08T12:06:57.265850",
     "exception": false,
     "start_time": "2023-09-08T12:06:57.224654",
     "status": "completed"
    },
    "tags": []
   },
   "outputs": [],
   "source": []
  }
 ],
 "kernelspec": {
  "display_name": "Python 3",
  "language": "python",
  "name": "python3"
 },
 "language_info": {
  "codemirror_mode": {
   "name": "ipython",
   "version": 3
  },
  "file_extension": ".py",
  "mimetype": "text/x-python",
  "name": "python",
  "nbconvert_exporter": "python",
  "pygments_lexer": "ipython3",
  "version": "3.6.4"
 },
 "metadata": {
  "kernelspec": {
   "display_name": "Python 3",
   "language": "python",
   "name": "python3"
  },
  "language_info": {
   "codemirror_mode": {
    "name": "ipython",
    "version": 3
   },
   "file_extension": ".py",
   "mimetype": "text/x-python",
   "name": "python",
   "nbconvert_exporter": "python",
   "pygments_lexer": "ipython3",
   "version": "3.10.12"
  },
  "papermill": {
   "default_parameters": {},
   "duration": 28.761223,
   "end_time": "2023-09-08T12:06:58.030754",
   "environment_variables": {},
   "exception": null,
   "input_path": "__notebook__.ipynb",
   "output_path": "__notebook__.ipynb",
   "parameters": {},
   "start_time": "2023-09-08T12:06:29.269531",
   "version": "2.4.0"
  }
 },
 "nbformat": 4,
 "nbformat_minor": 5
}
